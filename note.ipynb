{
 "cells": [
  {
   "cell_type": "code",
   "execution_count": 26,
   "metadata": {},
   "outputs": [],
   "source": [
    "# Importar las bibliotecas necesarias\n",
    "import pandas as pd\n",
    "from herramientas import obtener_resumen_valores_unicos\n",
    "import numpy as np\n",
    "from scipy.stats import pearsonr\n",
    "from sklearn.metrics.pairwise import cosine_similarity\n",
    "from surprise import Reader, Dataset, SVD, accuracy\n",
    "from surprise.model_selection import train_test_split\n"
   ]
  },
  {
   "cell_type": "code",
   "execution_count": 2,
   "metadata": {},
   "outputs": [],
   "source": [
    "# Leer los datos\n",
    "df = pd.read_csv('data/train.csv', delimiter = '|')\n",
    "df1 = pd.read_csv('data/RentabilidadProduct.csv', delimiter = '|')"
   ]
  },
  {
   "cell_type": "markdown",
   "metadata": {},
   "source": [
    "# Descripción de los datos\n",
    "\n",
    "## Data Entrenamiento [train.csv]\n",
    "* **fecha_compra** Dia donde un cliente hizo una compra.\n",
    "* **customer_id** Codigo de cliente\n",
    "* **product_id** Codigo de producto\n",
    "* **type_id** Tipo de negocio (GA: Gastronomia, PA: Panificacion, BO: Bodegas)\n",
    "* **business_id** Codigo tipo de producto (a que negocio pertenece el producto)\n",
    "* **channel_id** Canal de venta (A: Diadia, B: Insuma, V: Tradicional)\n",
    "* **cantidad_venta** Cantidad de producto comprado\n",
    "* **monto_venta_transf** Monto de compra\n",
    "* **peso_venta_transf** Volumen de compra\n",
    "\n",
    "## Data Producto [RentabilidadProduct.csv]\n",
    "* **product_id** Codigo de producto\n",
    "* **family_id** Codigo de familia (Marca a la que pertenece)\n",
    "* **negocio_id** Codigo tipo de producto (a que negocio pertenece el producto)\n",
    "* **category_id** Codigo de categoria de producto\n",
    "* **tier_id** Codigo de tier, indica jerarquia de un producto ( 1 = premiun, 2 = mainstream, 3=economy, 4=super economy)\n",
    "* **utilidad_bruta_transf** Utilidad bruta del producto"
   ]
  },
  {
   "cell_type": "code",
   "execution_count": 3,
   "metadata": {},
   "outputs": [
    {
     "data": {
      "text/html": [
       "<div>\n",
       "<style scoped>\n",
       "    .dataframe tbody tr th:only-of-type {\n",
       "        vertical-align: middle;\n",
       "    }\n",
       "\n",
       "    .dataframe tbody tr th {\n",
       "        vertical-align: top;\n",
       "    }\n",
       "\n",
       "    .dataframe thead th {\n",
       "        text-align: right;\n",
       "    }\n",
       "</style>\n",
       "<table border=\"1\" class=\"dataframe\">\n",
       "  <thead>\n",
       "    <tr style=\"text-align: right;\">\n",
       "      <th></th>\n",
       "      <th>Columna</th>\n",
       "      <th>Tipo de Dato</th>\n",
       "      <th>Valores Únicos</th>\n",
       "      <th>Total Valores</th>\n",
       "      <th>Valores Nulos</th>\n",
       "    </tr>\n",
       "  </thead>\n",
       "  <tbody>\n",
       "    <tr>\n",
       "      <th>0</th>\n",
       "      <td>fecha_compra</td>\n",
       "      <td>object</td>\n",
       "      <td>327</td>\n",
       "      <td>2167848</td>\n",
       "      <td>0</td>\n",
       "    </tr>\n",
       "    <tr>\n",
       "      <th>1</th>\n",
       "      <td>customer_id</td>\n",
       "      <td>int64</td>\n",
       "      <td>15312</td>\n",
       "      <td>2167848</td>\n",
       "      <td>0</td>\n",
       "    </tr>\n",
       "    <tr>\n",
       "      <th>2</th>\n",
       "      <td>product_id</td>\n",
       "      <td>int64</td>\n",
       "      <td>1043</td>\n",
       "      <td>2167848</td>\n",
       "      <td>0</td>\n",
       "    </tr>\n",
       "    <tr>\n",
       "      <th>3</th>\n",
       "      <td>type_id</td>\n",
       "      <td>object</td>\n",
       "      <td>3</td>\n",
       "      <td>2167848</td>\n",
       "      <td>0</td>\n",
       "    </tr>\n",
       "    <tr>\n",
       "      <th>4</th>\n",
       "      <td>business_id</td>\n",
       "      <td>int64</td>\n",
       "      <td>10</td>\n",
       "      <td>2167848</td>\n",
       "      <td>0</td>\n",
       "    </tr>\n",
       "    <tr>\n",
       "      <th>5</th>\n",
       "      <td>channel_id</td>\n",
       "      <td>object</td>\n",
       "      <td>3</td>\n",
       "      <td>2167848</td>\n",
       "      <td>0</td>\n",
       "    </tr>\n",
       "    <tr>\n",
       "      <th>6</th>\n",
       "      <td>cantidad_venta</td>\n",
       "      <td>float64</td>\n",
       "      <td>147</td>\n",
       "      <td>2167848</td>\n",
       "      <td>0</td>\n",
       "    </tr>\n",
       "    <tr>\n",
       "      <th>7</th>\n",
       "      <td>monto_venta_transf</td>\n",
       "      <td>float64</td>\n",
       "      <td>36737</td>\n",
       "      <td>2167848</td>\n",
       "      <td>0</td>\n",
       "    </tr>\n",
       "    <tr>\n",
       "      <th>8</th>\n",
       "      <td>peso_venta_transf</td>\n",
       "      <td>float64</td>\n",
       "      <td>2382</td>\n",
       "      <td>2167848</td>\n",
       "      <td>0</td>\n",
       "    </tr>\n",
       "  </tbody>\n",
       "</table>\n",
       "</div>"
      ],
      "text/plain": [
       "              Columna Tipo de Dato  Valores Únicos  Total Valores  \\\n",
       "0        fecha_compra       object             327        2167848   \n",
       "1         customer_id        int64           15312        2167848   \n",
       "2          product_id        int64            1043        2167848   \n",
       "3             type_id       object               3        2167848   \n",
       "4         business_id        int64              10        2167848   \n",
       "5          channel_id       object               3        2167848   \n",
       "6      cantidad_venta      float64             147        2167848   \n",
       "7  monto_venta_transf      float64           36737        2167848   \n",
       "8   peso_venta_transf      float64            2382        2167848   \n",
       "\n",
       "   Valores Nulos  \n",
       "0              0  \n",
       "1              0  \n",
       "2              0  \n",
       "3              0  \n",
       "4              0  \n",
       "5              0  \n",
       "6              0  \n",
       "7              0  \n",
       "8              0  "
      ]
     },
     "execution_count": 3,
     "metadata": {},
     "output_type": "execute_result"
    }
   ],
   "source": [
    "obtener_resumen_valores_unicos(df)"
   ]
  },
  {
   "cell_type": "code",
   "execution_count": 4,
   "metadata": {},
   "outputs": [
    {
     "data": {
      "text/html": [
       "<div>\n",
       "<style scoped>\n",
       "    .dataframe tbody tr th:only-of-type {\n",
       "        vertical-align: middle;\n",
       "    }\n",
       "\n",
       "    .dataframe tbody tr th {\n",
       "        vertical-align: top;\n",
       "    }\n",
       "\n",
       "    .dataframe thead th {\n",
       "        text-align: right;\n",
       "    }\n",
       "</style>\n",
       "<table border=\"1\" class=\"dataframe\">\n",
       "  <thead>\n",
       "    <tr style=\"text-align: right;\">\n",
       "      <th></th>\n",
       "      <th>Columna</th>\n",
       "      <th>Tipo de Dato</th>\n",
       "      <th>Valores Únicos</th>\n",
       "      <th>Total Valores</th>\n",
       "      <th>Valores Nulos</th>\n",
       "    </tr>\n",
       "  </thead>\n",
       "  <tbody>\n",
       "    <tr>\n",
       "      <th>0</th>\n",
       "      <td>product_id</td>\n",
       "      <td>int64</td>\n",
       "      <td>937</td>\n",
       "      <td>937</td>\n",
       "      <td>0</td>\n",
       "    </tr>\n",
       "    <tr>\n",
       "      <th>1</th>\n",
       "      <td>family_id</td>\n",
       "      <td>int64</td>\n",
       "      <td>231</td>\n",
       "      <td>937</td>\n",
       "      <td>0</td>\n",
       "    </tr>\n",
       "    <tr>\n",
       "      <th>2</th>\n",
       "      <td>negocio_id</td>\n",
       "      <td>int64</td>\n",
       "      <td>3</td>\n",
       "      <td>937</td>\n",
       "      <td>0</td>\n",
       "    </tr>\n",
       "    <tr>\n",
       "      <th>3</th>\n",
       "      <td>category_id</td>\n",
       "      <td>int64</td>\n",
       "      <td>50</td>\n",
       "      <td>937</td>\n",
       "      <td>0</td>\n",
       "    </tr>\n",
       "    <tr>\n",
       "      <th>4</th>\n",
       "      <td>tier_id</td>\n",
       "      <td>int64</td>\n",
       "      <td>4</td>\n",
       "      <td>937</td>\n",
       "      <td>0</td>\n",
       "    </tr>\n",
       "    <tr>\n",
       "      <th>5</th>\n",
       "      <td>utilidad_bruta_transf</td>\n",
       "      <td>float64</td>\n",
       "      <td>925</td>\n",
       "      <td>937</td>\n",
       "      <td>0</td>\n",
       "    </tr>\n",
       "  </tbody>\n",
       "</table>\n",
       "</div>"
      ],
      "text/plain": [
       "                 Columna Tipo de Dato  Valores Únicos  Total Valores  \\\n",
       "0             product_id        int64             937            937   \n",
       "1              family_id        int64             231            937   \n",
       "2             negocio_id        int64               3            937   \n",
       "3            category_id        int64              50            937   \n",
       "4                tier_id        int64               4            937   \n",
       "5  utilidad_bruta_transf      float64             925            937   \n",
       "\n",
       "   Valores Nulos  \n",
       "0              0  \n",
       "1              0  \n",
       "2              0  \n",
       "3              0  \n",
       "4              0  \n",
       "5              0  "
      ]
     },
     "execution_count": 4,
     "metadata": {},
     "output_type": "execute_result"
    }
   ],
   "source": [
    "obtener_resumen_valores_unicos(df1)"
   ]
  },
  {
   "cell_type": "markdown",
   "metadata": {},
   "source": [
    "# Filtrado colaborativo basado en usuarios (User-User)"
   ]
  },
  {
   "cell_type": "markdown",
   "metadata": {},
   "source": [
    "## Matriz de calificaciones"
   ]
  },
  {
   "cell_type": "code",
   "execution_count": 5,
   "metadata": {},
   "outputs": [],
   "source": [
    "# Agregamos un ranking\n",
    "# Agrupar por cliente y producto, y contar la frecuencia de compra\n",
    "frecuencia_compra = df.groupby(['customer_id', 'product_id']).size().reset_index(name='frecuencia')\n",
    "\n",
    "# Normalizar el ranking entre 1 y 5\n",
    "frecuencia_compra['ranking'] = frecuencia_compra['frecuencia'].apply(lambda x: 5 if x > 10 else (1 if x == 1 else (x-1)//2))\n",
    "\n",
    "# Fusionar el ranking con el DataFrame original\n",
    "df_ranking = pd.merge(df, frecuencia_compra[['customer_id', 'product_id', 'ranking']], on=['customer_id', 'product_id'], how='left')"
   ]
  },
  {
   "cell_type": "code",
   "execution_count": 6,
   "metadata": {},
   "outputs": [
    {
     "data": {
      "text/html": [
       "<div>\n",
       "<style scoped>\n",
       "    .dataframe tbody tr th:only-of-type {\n",
       "        vertical-align: middle;\n",
       "    }\n",
       "\n",
       "    .dataframe tbody tr th {\n",
       "        vertical-align: top;\n",
       "    }\n",
       "\n",
       "    .dataframe thead th {\n",
       "        text-align: right;\n",
       "    }\n",
       "</style>\n",
       "<table border=\"1\" class=\"dataframe\">\n",
       "  <thead>\n",
       "    <tr style=\"text-align: right;\">\n",
       "      <th></th>\n",
       "      <th>fecha_compra</th>\n",
       "      <th>customer_id</th>\n",
       "      <th>product_id</th>\n",
       "      <th>type_id</th>\n",
       "      <th>business_id</th>\n",
       "      <th>channel_id</th>\n",
       "      <th>cantidad_venta</th>\n",
       "      <th>monto_venta_transf</th>\n",
       "      <th>peso_venta_transf</th>\n",
       "      <th>ranking</th>\n",
       "    </tr>\n",
       "  </thead>\n",
       "  <tbody>\n",
       "    <tr>\n",
       "      <th>0</th>\n",
       "      <td>2022-01-31</td>\n",
       "      <td>7157</td>\n",
       "      <td>510</td>\n",
       "      <td>BO</td>\n",
       "      <td>21</td>\n",
       "      <td>V</td>\n",
       "      <td>1.0</td>\n",
       "      <td>0.153431</td>\n",
       "      <td>0.005211</td>\n",
       "      <td>2</td>\n",
       "    </tr>\n",
       "    <tr>\n",
       "      <th>1</th>\n",
       "      <td>2022-01-31</td>\n",
       "      <td>7157</td>\n",
       "      <td>512</td>\n",
       "      <td>BO</td>\n",
       "      <td>21</td>\n",
       "      <td>V</td>\n",
       "      <td>1.0</td>\n",
       "      <td>0.153431</td>\n",
       "      <td>0.005211</td>\n",
       "      <td>1</td>\n",
       "    </tr>\n",
       "    <tr>\n",
       "      <th>2</th>\n",
       "      <td>2022-01-31</td>\n",
       "      <td>9382</td>\n",
       "      <td>510</td>\n",
       "      <td>BO</td>\n",
       "      <td>21</td>\n",
       "      <td>V</td>\n",
       "      <td>1.0</td>\n",
       "      <td>0.153431</td>\n",
       "      <td>0.005211</td>\n",
       "      <td>0</td>\n",
       "    </tr>\n",
       "  </tbody>\n",
       "</table>\n",
       "</div>"
      ],
      "text/plain": [
       "  fecha_compra  customer_id  product_id type_id  business_id channel_id  \\\n",
       "0   2022-01-31         7157         510      BO           21          V   \n",
       "1   2022-01-31         7157         512      BO           21          V   \n",
       "2   2022-01-31         9382         510      BO           21          V   \n",
       "\n",
       "   cantidad_venta  monto_venta_transf  peso_venta_transf  ranking  \n",
       "0             1.0            0.153431           0.005211        2  \n",
       "1             1.0            0.153431           0.005211        1  \n",
       "2             1.0            0.153431           0.005211        0  "
      ]
     },
     "execution_count": 6,
     "metadata": {},
     "output_type": "execute_result"
    }
   ],
   "source": [
    "df_ranking.head(3)"
   ]
  },
  {
   "cell_type": "code",
   "execution_count": 7,
   "metadata": {},
   "outputs": [],
   "source": [
    "# Crear la matriz de calificaciones usando pivot\n",
    "df_matriz = df_ranking.drop_duplicates(subset=['customer_id', 'product_id'])\n",
    "matriz_calificaciones = df_matriz.pivot(index='customer_id', columns='product_id', values='ranking')\n",
    "\n",
    "# Rellenar los valores NaN con cero si es necesario\n",
    "matriz_calificaciones = matriz_calificaciones.fillna(0)\n",
    "\n",
    "# Ahora, matriz_calificaciones es un DataFrame que contiene la matriz de calificaciones que buscas\n"
   ]
  },
  {
   "cell_type": "markdown",
   "metadata": {},
   "source": [
    "## Cálculo de Similitud entre Usuarios"
   ]
  },
  {
   "cell_type": "markdown",
   "metadata": {},
   "source": [
    "## Similitud del Coseno"
   ]
  },
  {
   "cell_type": "code",
   "execution_count": 8,
   "metadata": {},
   "outputs": [
    {
     "name": "stdout",
     "output_type": "stream",
     "text": [
      "Matriz de similitud del coseno:\n",
      "[[1.         0.39337812 0.52494427 ... 0.         0.         0.        ]\n",
      " [0.39337812 1.         0.36095673 ... 0.         0.         0.        ]\n",
      " [0.52494427 0.36095673 1.         ... 0.         0.         0.        ]\n",
      " ...\n",
      " [0.         0.         0.         ... 1.         0.28284271 0.64549722]\n",
      " [0.         0.         0.         ... 0.28284271 1.         0.18257419]\n",
      " [0.         0.         0.         ... 0.64549722 0.18257419 1.        ]]\n"
     ]
    }
   ],
   "source": [
    "# Calcular la similitud del coseno entre los usuarios\n",
    "cosine_similarity_matrix = cosine_similarity(matriz_calificaciones)\n",
    "\n",
    "print(\"Matriz de similitud del coseno:\")\n",
    "print(cosine_similarity_matrix)\n"
   ]
  },
  {
   "cell_type": "code",
   "execution_count": 9,
   "metadata": {},
   "outputs": [
    {
     "name": "stdout",
     "output_type": "stream",
     "text": [
      "\n",
      "Predicciones con la similitud del coseno:\n",
      "[[4.24301502e-02 1.92485724e-02 8.92551561e-02 ... 3.64403852e-02\n",
      "  2.46329238e-02 2.17850133e-02]\n",
      " [3.43527089e-02 1.56888317e-02 8.14040976e-02 ... 2.91108399e-02\n",
      "  1.99072027e-02 1.81820551e-02]\n",
      " [4.33572753e-02 2.00004228e-02 8.98556632e-02 ... 3.47040153e-02\n",
      "  2.24743625e-02 2.05042736e-02]\n",
      " ...\n",
      " [4.40331248e-04 8.27398333e-04 2.52171488e-02 ... 8.58074005e-04\n",
      "  2.01723949e-04 5.33130690e-04]\n",
      " [9.09630090e-05 2.56625952e-04 1.94242525e-02 ... 7.15777458e-04\n",
      "  1.45213171e-04 5.86549278e-04]\n",
      " [1.72008630e-04 1.17384054e-04 2.33276475e-02 ... 9.61607848e-04\n",
      "  1.59110335e-04 4.40952175e-04]]\n"
     ]
    }
   ],
   "source": [
    "def predict_ratings(similarity_matrix, matriz_calificaciones):\n",
    "    # Calcular el peso promedio para cada ítem\n",
    "    weighted_ratings = np.dot(similarity_matrix, matriz_calificaciones)\n",
    "    \n",
    "    # Suma de las similitudes para cada usuario\n",
    "    sum_of_similarities = np.abs(similarity_matrix).sum(axis=1).reshape(-1, 1)\n",
    "    \n",
    "    # Evitar dividir por cero (en caso de que un usuario no tenga similitudes con otros)\n",
    "    sum_of_similarities[sum_of_similarities == 0] = 1\n",
    "    \n",
    "    predicted_ratings = weighted_ratings / sum_of_similarities\n",
    "    \n",
    "    return predicted_ratings\n",
    "\n",
    "# Predicciones usando las matrices de similitud\n",
    "cosine_predictions = predict_ratings(cosine_similarity_matrix, matriz_calificaciones)\n",
    "\n",
    "print(\"\\nPredicciones con la similitud del coseno:\")\n",
    "print(cosine_predictions)\n"
   ]
  },
  {
   "cell_type": "code",
   "execution_count": 10,
   "metadata": {},
   "outputs": [
    {
     "name": "stdout",
     "output_type": "stream",
     "text": [
      "       customer_id                                 top_30_product_ids\n",
      "0                1  [455, 451, 413, 403, 120, 425, 405, 202, 982, ...\n",
      "1                2  [455, 451, 413, 403, 120, 425, 405, 119, 982, ...\n",
      "2                3  [120, 455, 202, 413, 451, 403, 982, 425, 885, ...\n",
      "3                4  [120, 982, 885, 451, 455, 413, 202, 403, 886, ...\n",
      "4                5  [451, 455, 413, 403, 120, 425, 982, 405, 202, ...\n",
      "...            ...                                                ...\n",
      "15307        15308  [768, 735, 66, 968, 327, 37, 807, 162, 173, 96...\n",
      "15308        15309  [66, 768, 735, 327, 119, 968, 37, 808, 967, 80...\n",
      "15309        15310  [768, 735, 37, 66, 162, 173, 968, 967, 327, 49...\n",
      "15310        15311  [735, 768, 66, 968, 37, 807, 327, 967, 162, 80...\n",
      "15311        15312  [768, 735, 66, 37, 173, 162, 808, 327, 967, 49...\n",
      "\n",
      "[15312 rows x 2 columns]\n"
     ]
    }
   ],
   "source": [
    "# Función para obtener los top 30 productos\n",
    "def top_30_products(cosine_predictions):\n",
    "    sorted_indices = np.argsort(cosine_predictions, axis=1)[:, ::-1]\n",
    "    top_30_indices_for_each_user = sorted_indices[:, :30]\n",
    "    return top_30_indices_for_each_user\n",
    "\n",
    "top_products_indices = top_30_products(cosine_predictions)\n",
    "\n",
    "# Crear un DataFrame\n",
    "customer_ids = np.arange(1, cosine_predictions.shape[0] + 1)\n",
    "product_ids_lists = [list(row + 1) for row in top_products_indices]  # Sumamos 1 para que los product_ids empiecen en 1\n",
    "\n",
    "df = pd.DataFrame({\n",
    "    'customer_id': customer_ids,\n",
    "    'top_30_product_ids': product_ids_lists\n",
    "})\n",
    "\n",
    "print(df)\n"
   ]
  },
  {
   "cell_type": "code",
   "execution_count": 11,
   "metadata": {},
   "outputs": [],
   "source": [
    "# Convertir las listas a cadenas de caracteres separadas por espacios\n",
    "df['top_30_product_ids'] = df['top_30_product_ids'].apply(lambda x: ' '.join(map(str, x)))\n",
    "\n",
    "df.to_csv('User-User.csv', index=False)"
   ]
  },
  {
   "attachments": {
    "image.png": {
     "image/png": "[encoded data removed]"
    }
   },
   "cell_type": "markdown",
   "metadata": {},
   "source": [
    "![image.png](attachment:image.png)"
   ]
  },
  {
   "cell_type": "markdown",
   "metadata": {},
   "source": [
    "# Filtrado Colaborativo basado en Modelos"
   ]
  },
  {
   "cell_type": "code",
   "execution_count": 12,
   "metadata": {},
   "outputs": [],
   "source": [
    "matriz_calificaciones = df_matriz.pivot(index='customer_id', columns='product_id', values='ranking')"
   ]
  },
  {
   "cell_type": "code",
   "execution_count": 13,
   "metadata": {},
   "outputs": [],
   "source": [
    "matriz_calificaciones.replace(0, np.nan, inplace=True)\n"
   ]
  },
  {
   "cell_type": "code",
   "execution_count": 14,
   "metadata": {},
   "outputs": [],
   "source": [
    "df_long = matriz_calificaciones.stack().reset_index()\n",
    "df_long.columns = ['customer_id', 'product_id', 'ranking']\n"
   ]
  },
  {
   "cell_type": "code",
   "execution_count": 21,
   "metadata": {},
   "outputs": [],
   "source": [
    "reader = Reader(rating_scale=(1, 5))\n",
    "data = Dataset.load_from_df(df_long[['customer_id', 'product_id', 'ranking']], reader)\n",
    "trainset, testset = train_test_split(data, test_size=0.25)\n"
   ]
  },
  {
   "cell_type": "code",
   "execution_count": 24,
   "metadata": {},
   "outputs": [],
   "source": [
    "model = SVD()\n",
    "model.fit(trainset)\n",
    "predictions = model.test(testset)\n"
   ]
  },
  {
   "cell_type": "code",
   "execution_count": 27,
   "metadata": {},
   "outputs": [
    {
     "name": "stdout",
     "output_type": "stream",
     "text": [
      "RMSE: 0.8799\n",
      "RMSE: 0.8798679708553525\n"
     ]
    }
   ],
   "source": [
    "rmse = accuracy.rmse(predictions)\n",
    "print(f\"RMSE: {rmse}\")\n"
   ]
  },
  {
   "cell_type": "code",
   "execution_count": 36,
   "metadata": {},
   "outputs": [],
   "source": [
    "def get_unrated_products(df, user):\n",
    "    rated_products = set(df[df['customer_id'] == user]['product_id'])\n",
    "    all_products = set(df['product_id'].unique())\n",
    "    unrated_products = all_products  # - rated_products\n",
    "    return list(unrated_products)\n",
    "\n",
    "all_predictions = []\n",
    "\n",
    "for user in df_matriz['customer_id'].unique():\n",
    "    unrated_products = get_unrated_products(df_matriz, user)\n",
    "    for product in unrated_products:\n",
    "        all_predictions.append((user, product, model.predict(user, product).est))\n"
   ]
  },
  {
   "cell_type": "code",
   "execution_count": 37,
   "metadata": {},
   "outputs": [],
   "source": [
    "df_predictions = pd.DataFrame(all_predictions, columns=['customer_id', 'product_id', 'estimated_ranking'])\n",
    "df_sorted = df_predictions.groupby('customer_id').apply(lambda x: x.nlargest(30, 'estimated_ranking')).reset_index(drop=True)\n"
   ]
  },
  {
   "cell_type": "code",
   "execution_count": 38,
   "metadata": {},
   "outputs": [
    {
     "data": {
      "text/html": [
       "<div>\n",
       "<style scoped>\n",
       "    .dataframe tbody tr th:only-of-type {\n",
       "        vertical-align: middle;\n",
       "    }\n",
       "\n",
       "    .dataframe tbody tr th {\n",
       "        vertical-align: top;\n",
       "    }\n",
       "\n",
       "    .dataframe thead th {\n",
       "        text-align: right;\n",
       "    }\n",
       "</style>\n",
       "<table border=\"1\" class=\"dataframe\">\n",
       "  <thead>\n",
       "    <tr style=\"text-align: right;\">\n",
       "      <th></th>\n",
       "      <th>customer_id</th>\n",
       "      <th>product_id</th>\n",
       "      <th>estimated_ranking</th>\n",
       "    </tr>\n",
       "  </thead>\n",
       "  <tbody>\n",
       "    <tr>\n",
       "      <th>0</th>\n",
       "      <td>1</td>\n",
       "      <td>404</td>\n",
       "      <td>5.000000</td>\n",
       "    </tr>\n",
       "    <tr>\n",
       "      <th>1</th>\n",
       "      <td>1</td>\n",
       "      <td>414</td>\n",
       "      <td>5.000000</td>\n",
       "    </tr>\n",
       "    <tr>\n",
       "      <th>2</th>\n",
       "      <td>1</td>\n",
       "      <td>456</td>\n",
       "      <td>5.000000</td>\n",
       "    </tr>\n",
       "    <tr>\n",
       "      <th>3</th>\n",
       "      <td>1</td>\n",
       "      <td>452</td>\n",
       "      <td>4.576531</td>\n",
       "    </tr>\n",
       "    <tr>\n",
       "      <th>4</th>\n",
       "      <td>1</td>\n",
       "      <td>426</td>\n",
       "      <td>4.457841</td>\n",
       "    </tr>\n",
       "    <tr>\n",
       "      <th>...</th>\n",
       "      <td>...</td>\n",
       "      <td>...</td>\n",
       "      <td>...</td>\n",
       "    </tr>\n",
       "    <tr>\n",
       "      <th>459355</th>\n",
       "      <td>15312</td>\n",
       "      <td>193</td>\n",
       "      <td>1.912192</td>\n",
       "    </tr>\n",
       "    <tr>\n",
       "      <th>459356</th>\n",
       "      <td>15312</td>\n",
       "      <td>150</td>\n",
       "      <td>1.910502</td>\n",
       "    </tr>\n",
       "    <tr>\n",
       "      <th>459357</th>\n",
       "      <td>15312</td>\n",
       "      <td>890</td>\n",
       "      <td>1.906294</td>\n",
       "    </tr>\n",
       "    <tr>\n",
       "      <th>459358</th>\n",
       "      <td>15312</td>\n",
       "      <td>692</td>\n",
       "      <td>1.881145</td>\n",
       "    </tr>\n",
       "    <tr>\n",
       "      <th>459359</th>\n",
       "      <td>15312</td>\n",
       "      <td>211</td>\n",
       "      <td>1.866524</td>\n",
       "    </tr>\n",
       "  </tbody>\n",
       "</table>\n",
       "<p>459360 rows × 3 columns</p>\n",
       "</div>"
      ],
      "text/plain": [
       "        customer_id  product_id  estimated_ranking\n",
       "0                 1         404           5.000000\n",
       "1                 1         414           5.000000\n",
       "2                 1         456           5.000000\n",
       "3                 1         452           4.576531\n",
       "4                 1         426           4.457841\n",
       "...             ...         ...                ...\n",
       "459355        15312         193           1.912192\n",
       "459356        15312         150           1.910502\n",
       "459357        15312         890           1.906294\n",
       "459358        15312         692           1.881145\n",
       "459359        15312         211           1.866524\n",
       "\n",
       "[459360 rows x 3 columns]"
      ]
     },
     "execution_count": 38,
     "metadata": {},
     "output_type": "execute_result"
    }
   ],
   "source": [
    "df_sorted "
   ]
  },
  {
   "cell_type": "code",
   "execution_count": 39,
   "metadata": {},
   "outputs": [],
   "source": [
    "df_sorted.drop('estimated_ranking', axis=1, inplace=True)\n",
    "df_recommendations = df_sorted.groupby('customer_id')['product_id'].agg(list).reset_index()"
   ]
  },
  {
   "cell_type": "code",
   "execution_count": 40,
   "metadata": {},
   "outputs": [],
   "source": [
    "df_recommendations['product_id'] = df_recommendations['product_id'].apply(lambda x: ' '.join(map(str, x)))\n",
    "\n",
    "df_recommendations.to_csv('modelo.csv', index=False)"
   ]
  },
  {
   "attachments": {
    "image.png": {
     "image/png": "[encoded data removed]"
    }
   },
   "cell_type": "markdown",
   "metadata": {},
   "source": [
    "![image.png](attachment:image.png)"
   ]
  },
  {
   "cell_type": "markdown",
   "metadata": {},
   "source": []
  }
 ],
 "metadata": {
  "kernelspec": {
   "display_name": "venv",
   "language": "python",
   "name": "python3"
  },
  "language_info": {
   "codemirror_mode": {
    "name": "ipython",
    "version": 3
   },
   "file_extension": ".py",
   "mimetype": "text/x-python",
   "name": "python",
   "nbconvert_exporter": "python",
   "pygments_lexer": "ipython3",
   "version": "3.10.6"
  },
  "orig_nbformat": 4
 },
 "nbformat": 4,
 "nbformat_minor": 2
}
