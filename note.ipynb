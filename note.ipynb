{
 "cells": [
  {
   "cell_type": "code",
   "execution_count": 1,
   "metadata": {},
   "outputs": [],
   "source": [
    "# Importar las bibliotecas necesarias\n",
    "import pandas as pd\n",
    "from herramientas import obtener_resumen_valores_unicos\n",
    "import numpy as np\n",
    "from scipy.stats import pearsonr\n",
    "from sklearn.metrics.pairwise import cosine_similarity\n",
    "from surprise import Reader, Dataset, SVD, accuracy\n",
    "from surprise.model_selection import train_test_split\n"
   ]
  },
  {
   "cell_type": "code",
   "execution_count": 2,
   "metadata": {},
   "outputs": [],
   "source": [
    "# Leer los datos\n",
    "df = pd.read_csv('data/train.csv', delimiter = '|')\n",
    "df1 = pd.read_csv('data/RentabilidadProduct.csv', delimiter = '|')"
   ]
  },
  {
   "cell_type": "markdown",
   "metadata": {},
   "source": [
    "# Descripción de los datos\n",
    "\n",
    "## Data Entrenamiento [train.csv]\n",
    "* **fecha_compra** Dia donde un cliente hizo una compra.\n",
    "* **customer_id** Codigo de cliente\n",
    "* **product_id** Codigo de producto\n",
    "* **type_id** Tipo de negocio (GA: Gastronomia, PA: Panificacion, BO: Bodegas)\n",
    "* **business_id** Codigo tipo de producto (a que negocio pertenece el producto)\n",
    "* **channel_id** Canal de venta (A: Diadia, B: Insuma, V: Tradicional)\n",
    "* **cantidad_venta** Cantidad de producto comprado\n",
    "* **monto_venta_transf** Monto de compra\n",
    "* **peso_venta_transf** Volumen de compra\n",
    "\n",
    "## Data Producto [RentabilidadProduct.csv]\n",
    "* **product_id** Codigo de producto\n",
    "* **family_id** Codigo de familia (Marca a la que pertenece)\n",
    "* **negocio_id** Codigo tipo de producto (a que negocio pertenece el producto)\n",
    "* **category_id** Codigo de categoria de producto\n",
    "* **tier_id** Codigo de tier, indica jerarquia de un producto ( 1 = premiun, 2 = mainstream, 3=economy, 4=super economy)\n",
    "* **utilidad_bruta_transf** Utilidad bruta del producto"
   ]
  },
  {
   "cell_type": "code",
   "execution_count": 3,
   "metadata": {},
   "outputs": [
    {
     "data": {
      "text/html": [
       "<div>\n",
       "<style scoped>\n",
       "    .dataframe tbody tr th:only-of-type {\n",
       "        vertical-align: middle;\n",
       "    }\n",
       "\n",
       "    .dataframe tbody tr th {\n",
       "        vertical-align: top;\n",
       "    }\n",
       "\n",
       "    .dataframe thead th {\n",
       "        text-align: right;\n",
       "    }\n",
       "</style>\n",
       "<table border=\"1\" class=\"dataframe\">\n",
       "  <thead>\n",
       "    <tr style=\"text-align: right;\">\n",
       "      <th></th>\n",
       "      <th>Columna</th>\n",
       "      <th>Tipo de Dato</th>\n",
       "      <th>Valores Únicos</th>\n",
       "      <th>Total Valores</th>\n",
       "      <th>Valores Nulos</th>\n",
       "    </tr>\n",
       "  </thead>\n",
       "  <tbody>\n",
       "    <tr>\n",
       "      <th>0</th>\n",
       "      <td>fecha_compra</td>\n",
       "      <td>object</td>\n",
       "      <td>327</td>\n",
       "      <td>2167848</td>\n",
       "      <td>0</td>\n",
       "    </tr>\n",
       "    <tr>\n",
       "      <th>1</th>\n",
       "      <td>customer_id</td>\n",
       "      <td>int64</td>\n",
       "      <td>15312</td>\n",
       "      <td>2167848</td>\n",
       "      <td>0</td>\n",
       "    </tr>\n",
       "    <tr>\n",
       "      <th>2</th>\n",
       "      <td>product_id</td>\n",
       "      <td>int64</td>\n",
       "      <td>1043</td>\n",
       "      <td>2167848</td>\n",
       "      <td>0</td>\n",
       "    </tr>\n",
       "    <tr>\n",
       "      <th>3</th>\n",
       "      <td>type_id</td>\n",
       "      <td>object</td>\n",
       "      <td>3</td>\n",
       "      <td>2167848</td>\n",
       "      <td>0</td>\n",
       "    </tr>\n",
       "    <tr>\n",
       "      <th>4</th>\n",
       "      <td>business_id</td>\n",
       "      <td>int64</td>\n",
       "      <td>10</td>\n",
       "      <td>2167848</td>\n",
       "      <td>0</td>\n",
       "    </tr>\n",
       "    <tr>\n",
       "      <th>5</th>\n",
       "      <td>channel_id</td>\n",
       "      <td>object</td>\n",
       "      <td>3</td>\n",
       "      <td>2167848</td>\n",
       "      <td>0</td>\n",
       "    </tr>\n",
       "    <tr>\n",
       "      <th>6</th>\n",
       "      <td>cantidad_venta</td>\n",
       "      <td>float64</td>\n",
       "      <td>147</td>\n",
       "      <td>2167848</td>\n",
       "      <td>0</td>\n",
       "    </tr>\n",
       "    <tr>\n",
       "      <th>7</th>\n",
       "      <td>monto_venta_transf</td>\n",
       "      <td>float64</td>\n",
       "      <td>36737</td>\n",
       "      <td>2167848</td>\n",
       "      <td>0</td>\n",
       "    </tr>\n",
       "    <tr>\n",
       "      <th>8</th>\n",
       "      <td>peso_venta_transf</td>\n",
       "      <td>float64</td>\n",
       "      <td>2382</td>\n",
       "      <td>2167848</td>\n",
       "      <td>0</td>\n",
       "    </tr>\n",
       "  </tbody>\n",
       "</table>\n",
       "</div>"
      ],
      "text/plain": [
       "              Columna Tipo de Dato  Valores Únicos  Total Valores  \\\n",
       "0        fecha_compra       object             327        2167848   \n",
       "1         customer_id        int64           15312        2167848   \n",
       "2          product_id        int64            1043        2167848   \n",
       "3             type_id       object               3        2167848   \n",
       "4         business_id        int64              10        2167848   \n",
       "5          channel_id       object               3        2167848   \n",
       "6      cantidad_venta      float64             147        2167848   \n",
       "7  monto_venta_transf      float64           36737        2167848   \n",
       "8   peso_venta_transf      float64            2382        2167848   \n",
       "\n",
       "   Valores Nulos  \n",
       "0              0  \n",
       "1              0  \n",
       "2              0  \n",
       "3              0  \n",
       "4              0  \n",
       "5              0  \n",
       "6              0  \n",
       "7              0  \n",
       "8              0  "
      ]
     },
     "execution_count": 3,
     "metadata": {},
     "output_type": "execute_result"
    }
   ],
   "source": [
    "obtener_resumen_valores_unicos(df)"
   ]
  },
  {
   "cell_type": "code",
   "execution_count": 4,
   "metadata": {},
   "outputs": [
    {
     "data": {
      "text/html": [
       "<div>\n",
       "<style scoped>\n",
       "    .dataframe tbody tr th:only-of-type {\n",
       "        vertical-align: middle;\n",
       "    }\n",
       "\n",
       "    .dataframe tbody tr th {\n",
       "        vertical-align: top;\n",
       "    }\n",
       "\n",
       "    .dataframe thead th {\n",
       "        text-align: right;\n",
       "    }\n",
       "</style>\n",
       "<table border=\"1\" class=\"dataframe\">\n",
       "  <thead>\n",
       "    <tr style=\"text-align: right;\">\n",
       "      <th></th>\n",
       "      <th>Columna</th>\n",
       "      <th>Tipo de Dato</th>\n",
       "      <th>Valores Únicos</th>\n",
       "      <th>Total Valores</th>\n",
       "      <th>Valores Nulos</th>\n",
       "    </tr>\n",
       "  </thead>\n",
       "  <tbody>\n",
       "    <tr>\n",
       "      <th>0</th>\n",
       "      <td>product_id</td>\n",
       "      <td>int64</td>\n",
       "      <td>937</td>\n",
       "      <td>937</td>\n",
       "      <td>0</td>\n",
       "    </tr>\n",
       "    <tr>\n",
       "      <th>1</th>\n",
       "      <td>family_id</td>\n",
       "      <td>int64</td>\n",
       "      <td>231</td>\n",
       "      <td>937</td>\n",
       "      <td>0</td>\n",
       "    </tr>\n",
       "    <tr>\n",
       "      <th>2</th>\n",
       "      <td>negocio_id</td>\n",
       "      <td>int64</td>\n",
       "      <td>3</td>\n",
       "      <td>937</td>\n",
       "      <td>0</td>\n",
       "    </tr>\n",
       "    <tr>\n",
       "      <th>3</th>\n",
       "      <td>category_id</td>\n",
       "      <td>int64</td>\n",
       "      <td>50</td>\n",
       "      <td>937</td>\n",
       "      <td>0</td>\n",
       "    </tr>\n",
       "    <tr>\n",
       "      <th>4</th>\n",
       "      <td>tier_id</td>\n",
       "      <td>int64</td>\n",
       "      <td>4</td>\n",
       "      <td>937</td>\n",
       "      <td>0</td>\n",
       "    </tr>\n",
       "    <tr>\n",
       "      <th>5</th>\n",
       "      <td>utilidad_bruta_transf</td>\n",
       "      <td>float64</td>\n",
       "      <td>925</td>\n",
       "      <td>937</td>\n",
       "      <td>0</td>\n",
       "    </tr>\n",
       "  </tbody>\n",
       "</table>\n",
       "</div>"
      ],
      "text/plain": [
       "                 Columna Tipo de Dato  Valores Únicos  Total Valores  \\\n",
       "0             product_id        int64             937            937   \n",
       "1              family_id        int64             231            937   \n",
       "2             negocio_id        int64               3            937   \n",
       "3            category_id        int64              50            937   \n",
       "4                tier_id        int64               4            937   \n",
       "5  utilidad_bruta_transf      float64             925            937   \n",
       "\n",
       "   Valores Nulos  \n",
       "0              0  \n",
       "1              0  \n",
       "2              0  \n",
       "3              0  \n",
       "4              0  \n",
       "5              0  "
      ]
     },
     "execution_count": 4,
     "metadata": {},
     "output_type": "execute_result"
    }
   ],
   "source": [
    "obtener_resumen_valores_unicos(df1)"
   ]
  },
  {
   "cell_type": "markdown",
   "metadata": {},
   "source": [
    "# Filtrado colaborativo basado en usuarios (User-User)"
   ]
  },
  {
   "cell_type": "markdown",
   "metadata": {},
   "source": [
    "## Matriz de calificaciones"
   ]
  },
  {
   "cell_type": "code",
   "execution_count": 3,
   "metadata": {},
   "outputs": [],
   "source": [
    "# Agregamos un ranking\n",
    "# Agrupar por cliente y producto, y contar la frecuencia de compra\n",
    "frecuencia_compra = df.groupby(['customer_id', 'product_id']).size().reset_index(name='frecuencia')\n",
    "\n",
    "# Normalizar el ranking entre 1 y 5\n",
    "frecuencia_compra['ranking'] = frecuencia_compra['frecuencia'].apply(lambda x: 5 if x > 10 else (1 if x == 1 else (x-1)//2))\n",
    "\n",
    "# Fusionar el ranking con el DataFrame original\n",
    "df_ranking = pd.merge(df, frecuencia_compra[['customer_id', 'product_id', 'ranking']], on=['customer_id', 'product_id'], how='left')"
   ]
  },
  {
   "cell_type": "code",
   "execution_count": 4,
   "metadata": {},
   "outputs": [
    {
     "data": {
      "text/html": [
       "<div>\n",
       "<style scoped>\n",
       "    .dataframe tbody tr th:only-of-type {\n",
       "        vertical-align: middle;\n",
       "    }\n",
       "\n",
       "    .dataframe tbody tr th {\n",
       "        vertical-align: top;\n",
       "    }\n",
       "\n",
       "    .dataframe thead th {\n",
       "        text-align: right;\n",
       "    }\n",
       "</style>\n",
       "<table border=\"1\" class=\"dataframe\">\n",
       "  <thead>\n",
       "    <tr style=\"text-align: right;\">\n",
       "      <th></th>\n",
       "      <th>fecha_compra</th>\n",
       "      <th>customer_id</th>\n",
       "      <th>product_id</th>\n",
       "      <th>type_id</th>\n",
       "      <th>business_id</th>\n",
       "      <th>channel_id</th>\n",
       "      <th>cantidad_venta</th>\n",
       "      <th>monto_venta_transf</th>\n",
       "      <th>peso_venta_transf</th>\n",
       "      <th>ranking</th>\n",
       "    </tr>\n",
       "  </thead>\n",
       "  <tbody>\n",
       "    <tr>\n",
       "      <th>0</th>\n",
       "      <td>2022-01-31</td>\n",
       "      <td>7157</td>\n",
       "      <td>510</td>\n",
       "      <td>BO</td>\n",
       "      <td>21</td>\n",
       "      <td>V</td>\n",
       "      <td>1.0</td>\n",
       "      <td>0.153431</td>\n",
       "      <td>0.005211</td>\n",
       "      <td>2</td>\n",
       "    </tr>\n",
       "    <tr>\n",
       "      <th>1</th>\n",
       "      <td>2022-01-31</td>\n",
       "      <td>7157</td>\n",
       "      <td>512</td>\n",
       "      <td>BO</td>\n",
       "      <td>21</td>\n",
       "      <td>V</td>\n",
       "      <td>1.0</td>\n",
       "      <td>0.153431</td>\n",
       "      <td>0.005211</td>\n",
       "      <td>1</td>\n",
       "    </tr>\n",
       "    <tr>\n",
       "      <th>2</th>\n",
       "      <td>2022-01-31</td>\n",
       "      <td>9382</td>\n",
       "      <td>510</td>\n",
       "      <td>BO</td>\n",
       "      <td>21</td>\n",
       "      <td>V</td>\n",
       "      <td>1.0</td>\n",
       "      <td>0.153431</td>\n",
       "      <td>0.005211</td>\n",
       "      <td>0</td>\n",
       "    </tr>\n",
       "  </tbody>\n",
       "</table>\n",
       "</div>"
      ],
      "text/plain": [
       "  fecha_compra  customer_id  product_id type_id  business_id channel_id  \\\n",
       "0   2022-01-31         7157         510      BO           21          V   \n",
       "1   2022-01-31         7157         512      BO           21          V   \n",
       "2   2022-01-31         9382         510      BO           21          V   \n",
       "\n",
       "   cantidad_venta  monto_venta_transf  peso_venta_transf  ranking  \n",
       "0             1.0            0.153431           0.005211        2  \n",
       "1             1.0            0.153431           0.005211        1  \n",
       "2             1.0            0.153431           0.005211        0  "
      ]
     },
     "execution_count": 4,
     "metadata": {},
     "output_type": "execute_result"
    }
   ],
   "source": [
    "df_ranking.head(3)"
   ]
  },
  {
   "cell_type": "code",
   "execution_count": 7,
   "metadata": {},
   "outputs": [],
   "source": [
    "# Crear la matriz de calificaciones usando pivot\n",
    "df_matriz = df_ranking.drop_duplicates(subset=['customer_id', 'product_id'])\n",
    "matriz_calificaciones = df_matriz.pivot(index='customer_id', columns='product_id', values='ranking')\n",
    "\n",
    "# Rellenar los valores NaN con cero si es necesario\n",
    "matriz_calificaciones = matriz_calificaciones.fillna(0)\n",
    "\n",
    "# Ahora, matriz_calificaciones es un DataFrame que contiene la matriz de calificaciones que buscas\n"
   ]
  },
  {
   "cell_type": "markdown",
   "metadata": {},
   "source": [
    "## Cálculo de Similitud entre Usuarios"
   ]
  },
  {
   "cell_type": "markdown",
   "metadata": {},
   "source": [
    "## Similitud del Coseno"
   ]
  },
  {
   "cell_type": "code",
   "execution_count": 8,
   "metadata": {},
   "outputs": [
    {
     "name": "stdout",
     "output_type": "stream",
     "text": [
      "Matriz de similitud del coseno:\n",
      "[[1.         0.39337812 0.52494427 ... 0.         0.         0.        ]\n",
      " [0.39337812 1.         0.36095673 ... 0.         0.         0.        ]\n",
      " [0.52494427 0.36095673 1.         ... 0.         0.         0.        ]\n",
      " ...\n",
      " [0.         0.         0.         ... 1.         0.28284271 0.64549722]\n",
      " [0.         0.         0.         ... 0.28284271 1.         0.18257419]\n",
      " [0.         0.         0.         ... 0.64549722 0.18257419 1.        ]]\n"
     ]
    }
   ],
   "source": [
    "# Calcular la similitud del coseno entre los usuarios\n",
    "cosine_similarity_matrix = cosine_similarity(matriz_calificaciones)\n",
    "\n",
    "print(\"Matriz de similitud del coseno:\")\n",
    "print(cosine_similarity_matrix)\n"
   ]
  },
  {
   "cell_type": "code",
   "execution_count": 9,
   "metadata": {},
   "outputs": [
    {
     "name": "stdout",
     "output_type": "stream",
     "text": [
      "\n",
      "Predicciones con la similitud del coseno:\n",
      "[[4.24301502e-02 1.92485724e-02 8.92551561e-02 ... 3.64403852e-02\n",
      "  2.46329238e-02 2.17850133e-02]\n",
      " [3.43527089e-02 1.56888317e-02 8.14040976e-02 ... 2.91108399e-02\n",
      "  1.99072027e-02 1.81820551e-02]\n",
      " [4.33572753e-02 2.00004228e-02 8.98556632e-02 ... 3.47040153e-02\n",
      "  2.24743625e-02 2.05042736e-02]\n",
      " ...\n",
      " [4.40331248e-04 8.27398333e-04 2.52171488e-02 ... 8.58074005e-04\n",
      "  2.01723949e-04 5.33130690e-04]\n",
      " [9.09630090e-05 2.56625952e-04 1.94242525e-02 ... 7.15777458e-04\n",
      "  1.45213171e-04 5.86549278e-04]\n",
      " [1.72008630e-04 1.17384054e-04 2.33276475e-02 ... 9.61607848e-04\n",
      "  1.59110335e-04 4.40952175e-04]]\n"
     ]
    }
   ],
   "source": [
    "def predict_ratings(similarity_matrix, matriz_calificaciones):\n",
    "    # Calcular el peso promedio para cada ítem\n",
    "    weighted_ratings = np.dot(similarity_matrix, matriz_calificaciones)\n",
    "    \n",
    "    # Suma de las similitudes para cada usuario\n",
    "    sum_of_similarities = np.abs(similarity_matrix).sum(axis=1).reshape(-1, 1)\n",
    "    \n",
    "    # Evitar dividir por cero (en caso de que un usuario no tenga similitudes con otros)\n",
    "    sum_of_similarities[sum_of_similarities == 0] = 1\n",
    "    \n",
    "    predicted_ratings = weighted_ratings / sum_of_similarities\n",
    "    \n",
    "    return predicted_ratings\n",
    "\n",
    "# Predicciones usando las matrices de similitud\n",
    "cosine_predictions = predict_ratings(cosine_similarity_matrix, matriz_calificaciones)\n",
    "\n",
    "print(\"\\nPredicciones con la similitud del coseno:\")\n",
    "print(cosine_predictions)\n"
   ]
  },
  {
   "cell_type": "code",
   "execution_count": 10,
   "metadata": {},
   "outputs": [
    {
     "name": "stdout",
     "output_type": "stream",
     "text": [
      "       customer_id                                 top_30_product_ids\n",
      "0                1  [455, 451, 413, 403, 120, 425, 405, 202, 982, ...\n",
      "1                2  [455, 451, 413, 403, 120, 425, 405, 119, 982, ...\n",
      "2                3  [120, 455, 202, 413, 451, 403, 982, 425, 885, ...\n",
      "3                4  [120, 982, 885, 451, 455, 413, 202, 403, 886, ...\n",
      "4                5  [451, 455, 413, 403, 120, 425, 982, 405, 202, ...\n",
      "...            ...                                                ...\n",
      "15307        15308  [768, 735, 66, 968, 327, 37, 807, 162, 173, 96...\n",
      "15308        15309  [66, 768, 735, 327, 119, 968, 37, 808, 967, 80...\n",
      "15309        15310  [768, 735, 37, 66, 162, 173, 968, 967, 327, 49...\n",
      "15310        15311  [735, 768, 66, 968, 37, 807, 327, 967, 162, 80...\n",
      "15311        15312  [768, 735, 66, 37, 173, 162, 808, 327, 967, 49...\n",
      "\n",
      "[15312 rows x 2 columns]\n"
     ]
    }
   ],
   "source": [
    "# Función para obtener los top 30 productos\n",
    "def top_30_products(cosine_predictions):\n",
    "    sorted_indices = np.argsort(cosine_predictions, axis=1)[:, ::-1]\n",
    "    top_30_indices_for_each_user = sorted_indices[:, :30]\n",
    "    return top_30_indices_for_each_user\n",
    "\n",
    "top_products_indices = top_30_products(cosine_predictions)\n",
    "\n",
    "# Crear un DataFrame\n",
    "customer_ids = np.arange(1, cosine_predictions.shape[0] + 1)\n",
    "product_ids_lists = [list(row + 1) for row in top_products_indices]  # Sumamos 1 para que los product_ids empiecen en 1\n",
    "\n",
    "df = pd.DataFrame({\n",
    "    'customer_id': customer_ids,\n",
    "    'top_30_product_ids': product_ids_lists\n",
    "})\n",
    "\n",
    "print(df)\n"
   ]
  },
  {
   "cell_type": "code",
   "execution_count": 11,
   "metadata": {},
   "outputs": [],
   "source": [
    "# Convertir las listas a cadenas de caracteres separadas por espacios\n",
    "df['top_30_product_ids'] = df['top_30_product_ids'].apply(lambda x: ' '.join(map(str, x)))\n",
    "\n",
    "df.to_csv('User-User.csv', index=False)"
   ]
  },
  {
   "attachments": {
    "image.png": {
     "image/png": "[encoded data removed]"
    }
   },
   "cell_type": "markdown",
   "metadata": {},
   "source": [
    "![image.png](attachment:image.png)"
   ]
  },
  {
   "cell_type": "markdown",
   "metadata": {},
   "source": [
    "# Filtrado Colaborativo basado en Modelos"
   ]
  },
  {
   "cell_type": "code",
   "execution_count": 12,
   "metadata": {},
   "outputs": [],
   "source": [
    "matriz_calificaciones = df_matriz.pivot(index='customer_id', columns='product_id', values='ranking')"
   ]
  },
  {
   "cell_type": "code",
   "execution_count": 13,
   "metadata": {},
   "outputs": [],
   "source": [
    "matriz_calificaciones.replace(0, np.nan, inplace=True)\n"
   ]
  },
  {
   "cell_type": "code",
   "execution_count": 14,
   "metadata": {},
   "outputs": [],
   "source": [
    "df_long = matriz_calificaciones.stack().reset_index()\n",
    "df_long.columns = ['customer_id', 'product_id', 'ranking']\n"
   ]
  },
  {
   "cell_type": "code",
   "execution_count": 15,
   "metadata": {},
   "outputs": [],
   "source": [
    "reader = Reader(rating_scale=(1, 5))\n",
    "data = Dataset.load_from_df(df_long[['customer_id', 'product_id', 'ranking']], reader)\n",
    "#trainset, testset = train_test_split(data, test_size=0.01)\n"
   ]
  },
  {
   "cell_type": "code",
   "execution_count": 16,
   "metadata": {},
   "outputs": [
    {
     "data": {
      "text/plain": [
       "<surprise.prediction_algorithms.matrix_factorization.SVD at 0x7f399ad3e710>"
      ]
     },
     "execution_count": 16,
     "metadata": {},
     "output_type": "execute_result"
    }
   ],
   "source": [
    "model = SVD()\n",
    "#model.fit(trainset)\n",
    "trainset = data.build_full_trainset()  # Utiliza todos los datos para el conjunto de entrenamiento\n",
    "#predictions = model.test(testset)\n",
    "model.fit(trainset)\n"
   ]
  },
  {
   "cell_type": "code",
   "execution_count": 17,
   "metadata": {},
   "outputs": [
    {
     "data": {
      "text/plain": [
       "' rmse = accuracy.rmse(predictions)\\nprint(f\"RMSE: {rmse}\")\\n '"
      ]
     },
     "execution_count": 17,
     "metadata": {},
     "output_type": "execute_result"
    }
   ],
   "source": [
    "\"\"\" rmse = accuracy.rmse(predictions)\n",
    "print(f\"RMSE: {rmse}\")\n",
    " \"\"\""
   ]
  },
  {
   "cell_type": "code",
   "execution_count": 18,
   "metadata": {},
   "outputs": [],
   "source": [
    "def get_unrated_products(df, user):\n",
    "    rated_products = set(df[df['customer_id'] == user]['product_id'])\n",
    "    all_products = set(df['product_id'].unique())\n",
    "    unrated_products = all_products  # - rated_products\n",
    "    return list(unrated_products)\n",
    "\n",
    "all_predictions = []\n",
    "\n",
    "for user in df_matriz['customer_id'].unique():\n",
    "    unrated_products = get_unrated_products(df_matriz, user)\n",
    "    for product in unrated_products:\n",
    "        all_predictions.append((user, product, model.predict(user, product).est))\n"
   ]
  },
  {
   "cell_type": "code",
   "execution_count": 19,
   "metadata": {},
   "outputs": [],
   "source": [
    "df_predictions = pd.DataFrame(all_predictions, columns=['customer_id', 'product_id', 'estimated_ranking'])\n",
    "df_sorted = df_predictions.groupby('customer_id').apply(lambda x: x.nlargest(30, 'estimated_ranking')).reset_index(drop=True)\n"
   ]
  },
  {
   "cell_type": "code",
   "execution_count": 20,
   "metadata": {},
   "outputs": [
    {
     "data": {
      "text/html": [
       "<div>\n",
       "<style scoped>\n",
       "    .dataframe tbody tr th:only-of-type {\n",
       "        vertical-align: middle;\n",
       "    }\n",
       "\n",
       "    .dataframe tbody tr th {\n",
       "        vertical-align: top;\n",
       "    }\n",
       "\n",
       "    .dataframe thead th {\n",
       "        text-align: right;\n",
       "    }\n",
       "</style>\n",
       "<table border=\"1\" class=\"dataframe\">\n",
       "  <thead>\n",
       "    <tr style=\"text-align: right;\">\n",
       "      <th></th>\n",
       "      <th>customer_id</th>\n",
       "      <th>product_id</th>\n",
       "      <th>estimated_ranking</th>\n",
       "    </tr>\n",
       "  </thead>\n",
       "  <tbody>\n",
       "    <tr>\n",
       "      <th>0</th>\n",
       "      <td>1</td>\n",
       "      <td>456</td>\n",
       "      <td>5.000000</td>\n",
       "    </tr>\n",
       "    <tr>\n",
       "      <th>1</th>\n",
       "      <td>1</td>\n",
       "      <td>42</td>\n",
       "      <td>4.986929</td>\n",
       "    </tr>\n",
       "    <tr>\n",
       "      <th>2</th>\n",
       "      <td>1</td>\n",
       "      <td>414</td>\n",
       "      <td>4.907168</td>\n",
       "    </tr>\n",
       "    <tr>\n",
       "      <th>3</th>\n",
       "      <td>1</td>\n",
       "      <td>404</td>\n",
       "      <td>4.804179</td>\n",
       "    </tr>\n",
       "    <tr>\n",
       "      <th>4</th>\n",
       "      <td>1</td>\n",
       "      <td>426</td>\n",
       "      <td>4.772934</td>\n",
       "    </tr>\n",
       "    <tr>\n",
       "      <th>...</th>\n",
       "      <td>...</td>\n",
       "      <td>...</td>\n",
       "      <td>...</td>\n",
       "    </tr>\n",
       "    <tr>\n",
       "      <th>459355</th>\n",
       "      <td>15312</td>\n",
       "      <td>459</td>\n",
       "      <td>2.112784</td>\n",
       "    </tr>\n",
       "    <tr>\n",
       "      <th>459356</th>\n",
       "      <td>15312</td>\n",
       "      <td>406</td>\n",
       "      <td>2.096477</td>\n",
       "    </tr>\n",
       "    <tr>\n",
       "      <th>459357</th>\n",
       "      <td>15312</td>\n",
       "      <td>717</td>\n",
       "      <td>2.080579</td>\n",
       "    </tr>\n",
       "    <tr>\n",
       "      <th>459358</th>\n",
       "      <td>15312</td>\n",
       "      <td>206</td>\n",
       "      <td>2.073830</td>\n",
       "    </tr>\n",
       "    <tr>\n",
       "      <th>459359</th>\n",
       "      <td>15312</td>\n",
       "      <td>711</td>\n",
       "      <td>2.035549</td>\n",
       "    </tr>\n",
       "  </tbody>\n",
       "</table>\n",
       "<p>459360 rows × 3 columns</p>\n",
       "</div>"
      ],
      "text/plain": [
       "        customer_id  product_id  estimated_ranking\n",
       "0                 1         456           5.000000\n",
       "1                 1          42           4.986929\n",
       "2                 1         414           4.907168\n",
       "3                 1         404           4.804179\n",
       "4                 1         426           4.772934\n",
       "...             ...         ...                ...\n",
       "459355        15312         459           2.112784\n",
       "459356        15312         406           2.096477\n",
       "459357        15312         717           2.080579\n",
       "459358        15312         206           2.073830\n",
       "459359        15312         711           2.035549\n",
       "\n",
       "[459360 rows x 3 columns]"
      ]
     },
     "execution_count": 20,
     "metadata": {},
     "output_type": "execute_result"
    }
   ],
   "source": [
    "df_sorted "
   ]
  },
  {
   "cell_type": "code",
   "execution_count": 21,
   "metadata": {},
   "outputs": [],
   "source": [
    "df_sorted.drop('estimated_ranking', axis=1, inplace=True)\n",
    "df_recommendations = df_sorted.groupby('customer_id')['product_id'].agg(list).reset_index()"
   ]
  },
  {
   "cell_type": "code",
   "execution_count": 22,
   "metadata": {},
   "outputs": [],
   "source": [
    "df_recommendations['product_id'] = df_recommendations['product_id'].apply(lambda x: ' '.join(map(str, x)))\n",
    "\n",
    "df_recommendations.to_csv('modelo.csv', index=False)"
   ]
  },
  {
   "attachments": {
    "image.png": {
     "image/png": "[encoded data removed]"
    }
   },
   "cell_type": "markdown",
   "metadata": {},
   "source": [
    "![image.png](attachment:image.png)"
   ]
  },
  {
   "cell_type": "markdown",
   "metadata": {},
   "source": [
    "todo en dataset"
   ]
  },
  {
   "attachments": {
    "image.png": {
     "image/png": "[encoded data removed]"
    }
   },
   "cell_type": "markdown",
   "metadata": {},
   "source": [
    "![image.png](attachment:image.png)"
   ]
  },
  {
   "cell_type": "markdown",
   "metadata": {},
   "source": [
    "# Agrupamiento "
   ]
  },
  {
   "cell_type": "code",
   "execution_count": 23,
   "metadata": {},
   "outputs": [],
   "source": [
    "# Agrupar el DataFrame por la columna \"type_id\"\n",
    "grouped = df_matriz.groupby(\"type_id\")"
   ]
  },
  {
   "cell_type": "code",
   "execution_count": 24,
   "metadata": {},
   "outputs": [],
   "source": [
    "grupo_GA = grouped.get_group(\"GA\")\n",
    "grupo_PA = grouped.get_group(\"PA\")\n",
    "grupo_BO = grouped.get_group(\"BO\")"
   ]
  },
  {
   "cell_type": "code",
   "execution_count": 25,
   "metadata": {},
   "outputs": [],
   "source": [
    "matriz_calificaciones_GA = grupo_GA.pivot(index='customer_id', columns='product_id', values='ranking')\n",
    "matriz_calificaciones_PA = grupo_PA.pivot(index='customer_id', columns='product_id', values='ranking')\n",
    "matriz_calificaciones_BO = grupo_BO.pivot(index='customer_id', columns='product_id', values='ranking')"
   ]
  },
  {
   "cell_type": "code",
   "execution_count": 26,
   "metadata": {},
   "outputs": [],
   "source": [
    "matriz_calificaciones_GA.replace(0, np.nan, inplace=True)\n",
    "matriz_calificaciones_PA.replace(0, np.nan, inplace=True)\n",
    "matriz_calificaciones_BO.replace(0, np.nan, inplace=True)"
   ]
  },
  {
   "cell_type": "code",
   "execution_count": 27,
   "metadata": {},
   "outputs": [],
   "source": [
    "df_long_GA = matriz_calificaciones_GA.stack().reset_index()\n",
    "df_long_PA = matriz_calificaciones_PA.stack().reset_index()\n",
    "df_long_BO = matriz_calificaciones_BO.stack().reset_index()\n",
    "\n",
    "df_long_GA.columns = ['customer_id', 'product_id', 'ranking']\n",
    "df_long_PA.columns = ['customer_id', 'product_id', 'ranking']\n",
    "df_long_BO.columns = ['customer_id', 'product_id', 'ranking']"
   ]
  },
  {
   "cell_type": "code",
   "execution_count": 28,
   "metadata": {},
   "outputs": [],
   "source": [
    "reader = Reader(rating_scale=(1, 5))\n",
    "\n",
    "data_GA = Dataset.load_from_df(df_long_GA[['customer_id', 'product_id', 'ranking']], reader)\n",
    "data_PA = Dataset.load_from_df(df_long_PA[['customer_id', 'product_id', 'ranking']], reader)\n",
    "data_BO = Dataset.load_from_df(df_long_BO[['customer_id', 'product_id', 'ranking']], reader)"
   ]
  },
  {
   "cell_type": "code",
   "execution_count": 29,
   "metadata": {},
   "outputs": [
    {
     "data": {
      "text/plain": [
       "<surprise.prediction_algorithms.matrix_factorization.SVD at 0x7f3891493a30>"
      ]
     },
     "execution_count": 29,
     "metadata": {},
     "output_type": "execute_result"
    }
   ],
   "source": [
    "model_GA = SVD()\n",
    "model_PA = SVD()\n",
    "model_BO = SVD()\n",
    "\n",
    "trainset_GA = data_GA.build_full_trainset()  # Utiliza todos los datos para el conjunto de entrenamiento\n",
    "trainset_PA = data_PA.build_full_trainset()\n",
    "trainset_BO = data_BO.build_full_trainset()\n",
    "\n",
    "model_GA.fit(trainset)\n",
    "model_PA.fit(trainset)\n",
    "model_BO.fit(trainset)"
   ]
  },
  {
   "cell_type": "code",
   "execution_count": 30,
   "metadata": {},
   "outputs": [],
   "source": [
    "def get_unrated_products(df, user):\n",
    "    rated_products = set(df[df['customer_id'] == user]['product_id'])\n",
    "    all_products = set(df['product_id'].unique())\n",
    "    unrated_products = all_products  # - rated_products\n",
    "    return list(unrated_products)"
   ]
  },
  {
   "cell_type": "code",
   "execution_count": 31,
   "metadata": {},
   "outputs": [],
   "source": [
    "all_predictions_GA = []\n",
    "for user in grupo_GA['customer_id'].unique():\n",
    "    unrated_products = get_unrated_products(grupo_GA, user)\n",
    "    for product in unrated_products:\n",
    "        all_predictions_GA.append((user, product, model_GA.predict(user, product).est))"
   ]
  },
  {
   "cell_type": "code",
   "execution_count": 32,
   "metadata": {},
   "outputs": [],
   "source": [
    "all_predictions_PA = []\n",
    "for user in grupo_PA['customer_id'].unique():\n",
    "    unrated_products = get_unrated_products(grupo_PA, user)\n",
    "    for product in unrated_products:\n",
    "        all_predictions_PA.append((user, product, model_PA.predict(user, product).est))"
   ]
  },
  {
   "cell_type": "code",
   "execution_count": 33,
   "metadata": {},
   "outputs": [],
   "source": [
    "all_predictions_BO = []\n",
    "for user in grupo_BO['customer_id'].unique():\n",
    "    unrated_products = get_unrated_products(grupo_BO, user)\n",
    "    for product in unrated_products:\n",
    "        all_predictions_BO.append((user, product, model_BO.predict(user, product).est))"
   ]
  },
  {
   "cell_type": "code",
   "execution_count": 34,
   "metadata": {},
   "outputs": [],
   "source": [
    "df_predictions_GA = pd.DataFrame(all_predictions_GA, columns=['customer_id', 'product_id', 'estimated_ranking'])\n",
    "df_predictions_PA = pd.DataFrame(all_predictions_PA, columns=['customer_id', 'product_id', 'estimated_ranking'])\n",
    "df_predictions_BO = pd.DataFrame(all_predictions_BO, columns=['customer_id', 'product_id', 'estimated_ranking'])\n",
    "\n",
    "\n",
    "df_sorted_GA = df_predictions_GA.groupby('customer_id').apply(lambda x: x.nlargest(30, 'estimated_ranking')).reset_index(drop=True)\n",
    "df_sorted_PA = df_predictions_PA.groupby('customer_id').apply(lambda x: x.nlargest(30, 'estimated_ranking')).reset_index(drop=True)\n",
    "df_sorted_BO = df_predictions_BO.groupby('customer_id').apply(lambda x: x.nlargest(30, 'estimated_ranking')).reset_index(drop=True)"
   ]
  },
  {
   "cell_type": "code",
   "execution_count": 35,
   "metadata": {},
   "outputs": [],
   "source": [
    "df_sorted_GA.drop('estimated_ranking', axis=1, inplace=True)\n",
    "df_sorted_PA.drop('estimated_ranking', axis=1, inplace=True)\n",
    "df_sorted_BO.drop('estimated_ranking', axis=1, inplace=True)\n",
    "\n",
    "df_recommendations_GA = df_sorted_GA.groupby('customer_id')['product_id'].agg(list).reset_index()\n",
    "df_recommendations_PA = df_sorted_PA.groupby('customer_id')['product_id'].agg(list).reset_index()\n",
    "df_recommendations_BO = df_sorted_BO.groupby('customer_id')['product_id'].agg(list).reset_index()"
   ]
  },
  {
   "cell_type": "code",
   "execution_count": 36,
   "metadata": {},
   "outputs": [],
   "source": [
    "# Unir los DataFrames\n",
    "merged_df = pd.concat([df_recommendations_GA, df_recommendations_PA, df_recommendations_BO], ignore_index=True)"
   ]
  },
  {
   "cell_type": "code",
   "execution_count": 37,
   "metadata": {},
   "outputs": [],
   "source": [
    "merged_df['product_id'] = merged_df['product_id'].apply(lambda x: ' '.join(map(str, x)))\n",
    "\n",
    "merged_df.to_csv('modelo2.csv', index=False)"
   ]
  },
  {
   "attachments": {
    "image.png": {
     "image/png": "[encoded data removed]"
    }
   },
   "cell_type": "markdown",
   "metadata": {},
   "source": [
    "![image.png](attachment:image.png)"
   ]
  },
  {
   "attachments": {
    "image.png": {
     "image/png": "[encoded data removed]"
    }
   },
   "cell_type": "markdown",
   "metadata": {},
   "source": [
    "![image.png](attachment:image.png)"
   ]
  },
  {
   "cell_type": "markdown",
   "metadata": {},
   "source": [
    "#  sistema de recomendación híbrido"
   ]
  },
  {
   "cell_type": "code",
   "execution_count": 7,
   "metadata": {},
   "outputs": [],
   "source": [
    "df_com = df_ranking"
   ]
  },
  {
   "cell_type": "code",
   "execution_count": 10,
   "metadata": {},
   "outputs": [
    {
     "data": {
      "text/html": [
       "<div>\n",
       "<style scoped>\n",
       "    .dataframe tbody tr th:only-of-type {\n",
       "        vertical-align: middle;\n",
       "    }\n",
       "\n",
       "    .dataframe tbody tr th {\n",
       "        vertical-align: top;\n",
       "    }\n",
       "\n",
       "    .dataframe thead th {\n",
       "        text-align: right;\n",
       "    }\n",
       "</style>\n",
       "<table border=\"1\" class=\"dataframe\">\n",
       "  <thead>\n",
       "    <tr style=\"text-align: right;\">\n",
       "      <th></th>\n",
       "      <th>fecha_compra</th>\n",
       "      <th>customer_id</th>\n",
       "      <th>product_id</th>\n",
       "      <th>type_id</th>\n",
       "      <th>business_id</th>\n",
       "      <th>channel_id</th>\n",
       "      <th>cantidad_venta</th>\n",
       "      <th>monto_venta_transf</th>\n",
       "      <th>peso_venta_transf</th>\n",
       "      <th>ranking</th>\n",
       "    </tr>\n",
       "  </thead>\n",
       "  <tbody>\n",
       "    <tr>\n",
       "      <th>0</th>\n",
       "      <td>2022-01-31</td>\n",
       "      <td>7157</td>\n",
       "      <td>510</td>\n",
       "      <td>BO</td>\n",
       "      <td>21</td>\n",
       "      <td>V</td>\n",
       "      <td>1.0</td>\n",
       "      <td>0.153431</td>\n",
       "      <td>0.005211</td>\n",
       "      <td>2</td>\n",
       "    </tr>\n",
       "    <tr>\n",
       "      <th>1</th>\n",
       "      <td>2022-01-31</td>\n",
       "      <td>7157</td>\n",
       "      <td>512</td>\n",
       "      <td>BO</td>\n",
       "      <td>21</td>\n",
       "      <td>V</td>\n",
       "      <td>1.0</td>\n",
       "      <td>0.153431</td>\n",
       "      <td>0.005211</td>\n",
       "      <td>1</td>\n",
       "    </tr>\n",
       "    <tr>\n",
       "      <th>2</th>\n",
       "      <td>2022-01-31</td>\n",
       "      <td>9382</td>\n",
       "      <td>510</td>\n",
       "      <td>BO</td>\n",
       "      <td>21</td>\n",
       "      <td>V</td>\n",
       "      <td>1.0</td>\n",
       "      <td>0.153431</td>\n",
       "      <td>0.005211</td>\n",
       "      <td>0</td>\n",
       "    </tr>\n",
       "    <tr>\n",
       "      <th>3</th>\n",
       "      <td>2022-01-31</td>\n",
       "      <td>9382</td>\n",
       "      <td>512</td>\n",
       "      <td>BO</td>\n",
       "      <td>21</td>\n",
       "      <td>V</td>\n",
       "      <td>1.0</td>\n",
       "      <td>0.153431</td>\n",
       "      <td>0.005211</td>\n",
       "      <td>1</td>\n",
       "    </tr>\n",
       "    <tr>\n",
       "      <th>4</th>\n",
       "      <td>2022-01-31</td>\n",
       "      <td>9382</td>\n",
       "      <td>525</td>\n",
       "      <td>BO</td>\n",
       "      <td>21</td>\n",
       "      <td>V</td>\n",
       "      <td>1.0</td>\n",
       "      <td>0.153431</td>\n",
       "      <td>0.005790</td>\n",
       "      <td>0</td>\n",
       "    </tr>\n",
       "    <tr>\n",
       "      <th>...</th>\n",
       "      <td>...</td>\n",
       "      <td>...</td>\n",
       "      <td>...</td>\n",
       "      <td>...</td>\n",
       "      <td>...</td>\n",
       "      <td>...</td>\n",
       "      <td>...</td>\n",
       "      <td>...</td>\n",
       "      <td>...</td>\n",
       "      <td>...</td>\n",
       "    </tr>\n",
       "    <tr>\n",
       "      <th>2167843</th>\n",
       "      <td>2023-02-04</td>\n",
       "      <td>646</td>\n",
       "      <td>667</td>\n",
       "      <td>PA</td>\n",
       "      <td>31</td>\n",
       "      <td>B</td>\n",
       "      <td>55.0</td>\n",
       "      <td>2085.986380</td>\n",
       "      <td>796.101767</td>\n",
       "      <td>5</td>\n",
       "    </tr>\n",
       "    <tr>\n",
       "      <th>2167844</th>\n",
       "      <td>2023-02-04</td>\n",
       "      <td>13758</td>\n",
       "      <td>667</td>\n",
       "      <td>PA</td>\n",
       "      <td>31</td>\n",
       "      <td>B</td>\n",
       "      <td>60.0</td>\n",
       "      <td>2339.780728</td>\n",
       "      <td>868.474655</td>\n",
       "      <td>3</td>\n",
       "    </tr>\n",
       "    <tr>\n",
       "      <th>2167845</th>\n",
       "      <td>2023-02-04</td>\n",
       "      <td>3111</td>\n",
       "      <td>673</td>\n",
       "      <td>GA</td>\n",
       "      <td>31</td>\n",
       "      <td>B</td>\n",
       "      <td>64.0</td>\n",
       "      <td>2460.348170</td>\n",
       "      <td>926.372966</td>\n",
       "      <td>5</td>\n",
       "    </tr>\n",
       "    <tr>\n",
       "      <th>2167846</th>\n",
       "      <td>2023-02-04</td>\n",
       "      <td>10520</td>\n",
       "      <td>679</td>\n",
       "      <td>PA</td>\n",
       "      <td>31</td>\n",
       "      <td>B</td>\n",
       "      <td>100.0</td>\n",
       "      <td>3531.912728</td>\n",
       "      <td>1447.457759</td>\n",
       "      <td>2</td>\n",
       "    </tr>\n",
       "    <tr>\n",
       "      <th>2167847</th>\n",
       "      <td>2023-02-04</td>\n",
       "      <td>8071</td>\n",
       "      <td>41</td>\n",
       "      <td>GA</td>\n",
       "      <td>51</td>\n",
       "      <td>V</td>\n",
       "      <td>100.0</td>\n",
       "      <td>5191.116187</td>\n",
       "      <td>530.059031</td>\n",
       "      <td>4</td>\n",
       "    </tr>\n",
       "  </tbody>\n",
       "</table>\n",
       "<p>2167848 rows × 10 columns</p>\n",
       "</div>"
      ],
      "text/plain": [
       "        fecha_compra  customer_id  product_id type_id  business_id channel_id  \\\n",
       "0         2022-01-31         7157         510      BO           21          V   \n",
       "1         2022-01-31         7157         512      BO           21          V   \n",
       "2         2022-01-31         9382         510      BO           21          V   \n",
       "3         2022-01-31         9382         512      BO           21          V   \n",
       "4         2022-01-31         9382         525      BO           21          V   \n",
       "...              ...          ...         ...     ...          ...        ...   \n",
       "2167843   2023-02-04          646         667      PA           31          B   \n",
       "2167844   2023-02-04        13758         667      PA           31          B   \n",
       "2167845   2023-02-04         3111         673      GA           31          B   \n",
       "2167846   2023-02-04        10520         679      PA           31          B   \n",
       "2167847   2023-02-04         8071          41      GA           51          V   \n",
       "\n",
       "         cantidad_venta  monto_venta_transf  peso_venta_transf  ranking  \n",
       "0                   1.0            0.153431           0.005211        2  \n",
       "1                   1.0            0.153431           0.005211        1  \n",
       "2                   1.0            0.153431           0.005211        0  \n",
       "3                   1.0            0.153431           0.005211        1  \n",
       "4                   1.0            0.153431           0.005790        0  \n",
       "...                 ...                 ...                ...      ...  \n",
       "2167843            55.0         2085.986380         796.101767        5  \n",
       "2167844            60.0         2339.780728         868.474655        3  \n",
       "2167845            64.0         2460.348170         926.372966        5  \n",
       "2167846           100.0         3531.912728        1447.457759        2  \n",
       "2167847           100.0         5191.116187         530.059031        4  \n",
       "\n",
       "[2167848 rows x 10 columns]"
      ]
     },
     "execution_count": 10,
     "metadata": {},
     "output_type": "execute_result"
    }
   ],
   "source": [
    "df_com"
   ]
  },
  {
   "cell_type": "code",
   "execution_count": 20,
   "metadata": {},
   "outputs": [],
   "source": [
    "import pandas as pd\n",
    "from surprise import Dataset, Reader, KNNBasic\n",
    "from surprise.model_selection import train_test_split\n",
    "from surprise import accuracy\n"
   ]
  },
  {
   "cell_type": "code",
   "execution_count": 13,
   "metadata": {},
   "outputs": [],
   "source": [
    "columnas_deseadas = ['customer_id', 'product_id', 'ranking']\n",
    "df_com = df_ranking[columnas_deseadas].copy()"
   ]
  },
  {
   "cell_type": "code",
   "execution_count": 14,
   "metadata": {},
   "outputs": [
    {
     "data": {
      "text/html": [
       "<div>\n",
       "<style scoped>\n",
       "    .dataframe tbody tr th:only-of-type {\n",
       "        vertical-align: middle;\n",
       "    }\n",
       "\n",
       "    .dataframe tbody tr th {\n",
       "        vertical-align: top;\n",
       "    }\n",
       "\n",
       "    .dataframe thead th {\n",
       "        text-align: right;\n",
       "    }\n",
       "</style>\n",
       "<table border=\"1\" class=\"dataframe\">\n",
       "  <thead>\n",
       "    <tr style=\"text-align: right;\">\n",
       "      <th></th>\n",
       "      <th>customer_id</th>\n",
       "      <th>product_id</th>\n",
       "      <th>ranking</th>\n",
       "    </tr>\n",
       "  </thead>\n",
       "  <tbody>\n",
       "    <tr>\n",
       "      <th>0</th>\n",
       "      <td>7157</td>\n",
       "      <td>510</td>\n",
       "      <td>2</td>\n",
       "    </tr>\n",
       "    <tr>\n",
       "      <th>1</th>\n",
       "      <td>7157</td>\n",
       "      <td>512</td>\n",
       "      <td>1</td>\n",
       "    </tr>\n",
       "    <tr>\n",
       "      <th>2</th>\n",
       "      <td>9382</td>\n",
       "      <td>510</td>\n",
       "      <td>0</td>\n",
       "    </tr>\n",
       "    <tr>\n",
       "      <th>3</th>\n",
       "      <td>9382</td>\n",
       "      <td>512</td>\n",
       "      <td>1</td>\n",
       "    </tr>\n",
       "    <tr>\n",
       "      <th>4</th>\n",
       "      <td>9382</td>\n",
       "      <td>525</td>\n",
       "      <td>0</td>\n",
       "    </tr>\n",
       "    <tr>\n",
       "      <th>...</th>\n",
       "      <td>...</td>\n",
       "      <td>...</td>\n",
       "      <td>...</td>\n",
       "    </tr>\n",
       "    <tr>\n",
       "      <th>2167843</th>\n",
       "      <td>646</td>\n",
       "      <td>667</td>\n",
       "      <td>5</td>\n",
       "    </tr>\n",
       "    <tr>\n",
       "      <th>2167844</th>\n",
       "      <td>13758</td>\n",
       "      <td>667</td>\n",
       "      <td>3</td>\n",
       "    </tr>\n",
       "    <tr>\n",
       "      <th>2167845</th>\n",
       "      <td>3111</td>\n",
       "      <td>673</td>\n",
       "      <td>5</td>\n",
       "    </tr>\n",
       "    <tr>\n",
       "      <th>2167846</th>\n",
       "      <td>10520</td>\n",
       "      <td>679</td>\n",
       "      <td>2</td>\n",
       "    </tr>\n",
       "    <tr>\n",
       "      <th>2167847</th>\n",
       "      <td>8071</td>\n",
       "      <td>41</td>\n",
       "      <td>4</td>\n",
       "    </tr>\n",
       "  </tbody>\n",
       "</table>\n",
       "<p>2167848 rows × 3 columns</p>\n",
       "</div>"
      ],
      "text/plain": [
       "         customer_id  product_id  ranking\n",
       "0               7157         510        2\n",
       "1               7157         512        1\n",
       "2               9382         510        0\n",
       "3               9382         512        1\n",
       "4               9382         525        0\n",
       "...              ...         ...      ...\n",
       "2167843          646         667        5\n",
       "2167844        13758         667        3\n",
       "2167845         3111         673        5\n",
       "2167846        10520         679        2\n",
       "2167847         8071          41        4\n",
       "\n",
       "[2167848 rows x 3 columns]"
      ]
     },
     "execution_count": 14,
     "metadata": {},
     "output_type": "execute_result"
    }
   ],
   "source": [
    "df_com"
   ]
  },
  {
   "cell_type": "code",
   "execution_count": 17,
   "metadata": {},
   "outputs": [],
   "source": [
    "# Eliminar filas duplicadas basadas en todas las columnas\n",
    "df_com = df_com.drop_duplicates()"
   ]
  },
  {
   "cell_type": "code",
   "execution_count": 18,
   "metadata": {},
   "outputs": [
    {
     "data": {
      "text/html": [
       "<div>\n",
       "<style scoped>\n",
       "    .dataframe tbody tr th:only-of-type {\n",
       "        vertical-align: middle;\n",
       "    }\n",
       "\n",
       "    .dataframe tbody tr th {\n",
       "        vertical-align: top;\n",
       "    }\n",
       "\n",
       "    .dataframe thead th {\n",
       "        text-align: right;\n",
       "    }\n",
       "</style>\n",
       "<table border=\"1\" class=\"dataframe\">\n",
       "  <thead>\n",
       "    <tr style=\"text-align: right;\">\n",
       "      <th></th>\n",
       "      <th>customer_id</th>\n",
       "      <th>product_id</th>\n",
       "      <th>ranking</th>\n",
       "    </tr>\n",
       "  </thead>\n",
       "  <tbody>\n",
       "    <tr>\n",
       "      <th>0</th>\n",
       "      <td>7157</td>\n",
       "      <td>510</td>\n",
       "      <td>2</td>\n",
       "    </tr>\n",
       "    <tr>\n",
       "      <th>1</th>\n",
       "      <td>7157</td>\n",
       "      <td>512</td>\n",
       "      <td>1</td>\n",
       "    </tr>\n",
       "    <tr>\n",
       "      <th>2</th>\n",
       "      <td>9382</td>\n",
       "      <td>510</td>\n",
       "      <td>0</td>\n",
       "    </tr>\n",
       "    <tr>\n",
       "      <th>3</th>\n",
       "      <td>9382</td>\n",
       "      <td>512</td>\n",
       "      <td>1</td>\n",
       "    </tr>\n",
       "    <tr>\n",
       "      <th>4</th>\n",
       "      <td>9382</td>\n",
       "      <td>525</td>\n",
       "      <td>0</td>\n",
       "    </tr>\n",
       "    <tr>\n",
       "      <th>...</th>\n",
       "      <td>...</td>\n",
       "      <td>...</td>\n",
       "      <td>...</td>\n",
       "    </tr>\n",
       "    <tr>\n",
       "      <th>2167755</th>\n",
       "      <td>14180</td>\n",
       "      <td>34</td>\n",
       "      <td>1</td>\n",
       "    </tr>\n",
       "    <tr>\n",
       "      <th>2167770</th>\n",
       "      <td>13903</td>\n",
       "      <td>679</td>\n",
       "      <td>1</td>\n",
       "    </tr>\n",
       "    <tr>\n",
       "      <th>2167810</th>\n",
       "      <td>8531</td>\n",
       "      <td>679</td>\n",
       "      <td>1</td>\n",
       "    </tr>\n",
       "    <tr>\n",
       "      <th>2167822</th>\n",
       "      <td>2693</td>\n",
       "      <td>679</td>\n",
       "      <td>1</td>\n",
       "    </tr>\n",
       "    <tr>\n",
       "      <th>2167833</th>\n",
       "      <td>12442</td>\n",
       "      <td>679</td>\n",
       "      <td>1</td>\n",
       "    </tr>\n",
       "  </tbody>\n",
       "</table>\n",
       "<p>668425 rows × 3 columns</p>\n",
       "</div>"
      ],
      "text/plain": [
       "         customer_id  product_id  ranking\n",
       "0               7157         510        2\n",
       "1               7157         512        1\n",
       "2               9382         510        0\n",
       "3               9382         512        1\n",
       "4               9382         525        0\n",
       "...              ...         ...      ...\n",
       "2167755        14180          34        1\n",
       "2167770        13903         679        1\n",
       "2167810         8531         679        1\n",
       "2167822         2693         679        1\n",
       "2167833        12442         679        1\n",
       "\n",
       "[668425 rows x 3 columns]"
      ]
     },
     "execution_count": 18,
     "metadata": {},
     "output_type": "execute_result"
    }
   ],
   "source": [
    "df_com"
   ]
  },
  {
   "cell_type": "code",
   "execution_count": 34,
   "metadata": {},
   "outputs": [
    {
     "name": "stdout",
     "output_type": "stream",
     "text": [
      "Computing the msd similarity matrix...\n",
      "Done computing similarity matrix.\n",
      "RMSE: 0.6486\n",
      "MAE:  0.3439\n",
      "RMSE: 0.6486\n",
      "MAE: 0.3439\n"
     ]
    }
   ],
   "source": [
    "\n",
    "# Define el formato del conjunto de datos (userID, itemID, rating)\n",
    "reader = Reader(rating_scale=(1, 5))  # Ajusta el rango de puntuaciones si es necesario\n",
    "\n",
    "# Cargar los datos en el formato adecuado para Surprise\n",
    "data = Dataset.load_from_df(df_com[['customer_id', 'product_id', 'ranking']], reader=reader)\n",
    "\n",
    "# Construir el conjunto de entrenamiento completo\n",
    "trainset = data.build_full_trainset()\n",
    "\n",
    "# Definir el algoritmo de recomendación (KNNBasic)\n",
    "algo = KNNBasic()\n",
    "\n",
    "# Entrenar el algoritmo en el conjunto de entrenamiento\n",
    "algo.fit(trainset)\n",
    "\n",
    "# Generar predicciones para todo el conjunto de datos\n",
    "predictions = algo.test(trainset.build_testset())\n",
    "\n",
    "# Evaluar el rendimiento del modelo en los datos de entrenamiento\n",
    "rmse = accuracy.rmse(predictions)\n",
    "mae = accuracy.mae(predictions)\n",
    "\n",
    "print(f'RMSE: {rmse:.4f}')\n",
    "print(f'MAE: {mae:.4f}')\n"
   ]
  },
  {
   "cell_type": "code",
   "execution_count": 38,
   "metadata": {},
   "outputs": [],
   "source": [
    "data = df_ranking"
   ]
  },
  {
   "cell_type": "code",
   "execution_count": 39,
   "metadata": {},
   "outputs": [
    {
     "data": {
      "text/html": [
       "<div>\n",
       "<style scoped>\n",
       "    .dataframe tbody tr th:only-of-type {\n",
       "        vertical-align: middle;\n",
       "    }\n",
       "\n",
       "    .dataframe tbody tr th {\n",
       "        vertical-align: top;\n",
       "    }\n",
       "\n",
       "    .dataframe thead th {\n",
       "        text-align: right;\n",
       "    }\n",
       "</style>\n",
       "<table border=\"1\" class=\"dataframe\">\n",
       "  <thead>\n",
       "    <tr style=\"text-align: right;\">\n",
       "      <th></th>\n",
       "      <th>fecha_compra</th>\n",
       "      <th>customer_id</th>\n",
       "      <th>product_id</th>\n",
       "      <th>type_id</th>\n",
       "      <th>business_id</th>\n",
       "      <th>channel_id</th>\n",
       "      <th>cantidad_venta</th>\n",
       "      <th>monto_venta_transf</th>\n",
       "      <th>peso_venta_transf</th>\n",
       "      <th>ranking</th>\n",
       "    </tr>\n",
       "  </thead>\n",
       "  <tbody>\n",
       "    <tr>\n",
       "      <th>0</th>\n",
       "      <td>2022-01-31</td>\n",
       "      <td>7157</td>\n",
       "      <td>510</td>\n",
       "      <td>BO</td>\n",
       "      <td>21</td>\n",
       "      <td>V</td>\n",
       "      <td>1.0</td>\n",
       "      <td>0.153431</td>\n",
       "      <td>0.005211</td>\n",
       "      <td>2</td>\n",
       "    </tr>\n",
       "    <tr>\n",
       "      <th>1</th>\n",
       "      <td>2022-01-31</td>\n",
       "      <td>7157</td>\n",
       "      <td>512</td>\n",
       "      <td>BO</td>\n",
       "      <td>21</td>\n",
       "      <td>V</td>\n",
       "      <td>1.0</td>\n",
       "      <td>0.153431</td>\n",
       "      <td>0.005211</td>\n",
       "      <td>1</td>\n",
       "    </tr>\n",
       "    <tr>\n",
       "      <th>2</th>\n",
       "      <td>2022-01-31</td>\n",
       "      <td>9382</td>\n",
       "      <td>510</td>\n",
       "      <td>BO</td>\n",
       "      <td>21</td>\n",
       "      <td>V</td>\n",
       "      <td>1.0</td>\n",
       "      <td>0.153431</td>\n",
       "      <td>0.005211</td>\n",
       "      <td>0</td>\n",
       "    </tr>\n",
       "    <tr>\n",
       "      <th>3</th>\n",
       "      <td>2022-01-31</td>\n",
       "      <td>9382</td>\n",
       "      <td>512</td>\n",
       "      <td>BO</td>\n",
       "      <td>21</td>\n",
       "      <td>V</td>\n",
       "      <td>1.0</td>\n",
       "      <td>0.153431</td>\n",
       "      <td>0.005211</td>\n",
       "      <td>1</td>\n",
       "    </tr>\n",
       "    <tr>\n",
       "      <th>4</th>\n",
       "      <td>2022-01-31</td>\n",
       "      <td>9382</td>\n",
       "      <td>525</td>\n",
       "      <td>BO</td>\n",
       "      <td>21</td>\n",
       "      <td>V</td>\n",
       "      <td>1.0</td>\n",
       "      <td>0.153431</td>\n",
       "      <td>0.005790</td>\n",
       "      <td>0</td>\n",
       "    </tr>\n",
       "    <tr>\n",
       "      <th>...</th>\n",
       "      <td>...</td>\n",
       "      <td>...</td>\n",
       "      <td>...</td>\n",
       "      <td>...</td>\n",
       "      <td>...</td>\n",
       "      <td>...</td>\n",
       "      <td>...</td>\n",
       "      <td>...</td>\n",
       "      <td>...</td>\n",
       "      <td>...</td>\n",
       "    </tr>\n",
       "    <tr>\n",
       "      <th>2167843</th>\n",
       "      <td>2023-02-04</td>\n",
       "      <td>646</td>\n",
       "      <td>667</td>\n",
       "      <td>PA</td>\n",
       "      <td>31</td>\n",
       "      <td>B</td>\n",
       "      <td>55.0</td>\n",
       "      <td>2085.986380</td>\n",
       "      <td>796.101767</td>\n",
       "      <td>5</td>\n",
       "    </tr>\n",
       "    <tr>\n",
       "      <th>2167844</th>\n",
       "      <td>2023-02-04</td>\n",
       "      <td>13758</td>\n",
       "      <td>667</td>\n",
       "      <td>PA</td>\n",
       "      <td>31</td>\n",
       "      <td>B</td>\n",
       "      <td>60.0</td>\n",
       "      <td>2339.780728</td>\n",
       "      <td>868.474655</td>\n",
       "      <td>3</td>\n",
       "    </tr>\n",
       "    <tr>\n",
       "      <th>2167845</th>\n",
       "      <td>2023-02-04</td>\n",
       "      <td>3111</td>\n",
       "      <td>673</td>\n",
       "      <td>GA</td>\n",
       "      <td>31</td>\n",
       "      <td>B</td>\n",
       "      <td>64.0</td>\n",
       "      <td>2460.348170</td>\n",
       "      <td>926.372966</td>\n",
       "      <td>5</td>\n",
       "    </tr>\n",
       "    <tr>\n",
       "      <th>2167846</th>\n",
       "      <td>2023-02-04</td>\n",
       "      <td>10520</td>\n",
       "      <td>679</td>\n",
       "      <td>PA</td>\n",
       "      <td>31</td>\n",
       "      <td>B</td>\n",
       "      <td>100.0</td>\n",
       "      <td>3531.912728</td>\n",
       "      <td>1447.457759</td>\n",
       "      <td>2</td>\n",
       "    </tr>\n",
       "    <tr>\n",
       "      <th>2167847</th>\n",
       "      <td>2023-02-04</td>\n",
       "      <td>8071</td>\n",
       "      <td>41</td>\n",
       "      <td>GA</td>\n",
       "      <td>51</td>\n",
       "      <td>V</td>\n",
       "      <td>100.0</td>\n",
       "      <td>5191.116187</td>\n",
       "      <td>530.059031</td>\n",
       "      <td>4</td>\n",
       "    </tr>\n",
       "  </tbody>\n",
       "</table>\n",
       "<p>2167848 rows × 10 columns</p>\n",
       "</div>"
      ],
      "text/plain": [
       "        fecha_compra  customer_id  product_id type_id  business_id channel_id  \\\n",
       "0         2022-01-31         7157         510      BO           21          V   \n",
       "1         2022-01-31         7157         512      BO           21          V   \n",
       "2         2022-01-31         9382         510      BO           21          V   \n",
       "3         2022-01-31         9382         512      BO           21          V   \n",
       "4         2022-01-31         9382         525      BO           21          V   \n",
       "...              ...          ...         ...     ...          ...        ...   \n",
       "2167843   2023-02-04          646         667      PA           31          B   \n",
       "2167844   2023-02-04        13758         667      PA           31          B   \n",
       "2167845   2023-02-04         3111         673      GA           31          B   \n",
       "2167846   2023-02-04        10520         679      PA           31          B   \n",
       "2167847   2023-02-04         8071          41      GA           51          V   \n",
       "\n",
       "         cantidad_venta  monto_venta_transf  peso_venta_transf  ranking  \n",
       "0                   1.0            0.153431           0.005211        2  \n",
       "1                   1.0            0.153431           0.005211        1  \n",
       "2                   1.0            0.153431           0.005211        0  \n",
       "3                   1.0            0.153431           0.005211        1  \n",
       "4                   1.0            0.153431           0.005790        0  \n",
       "...                 ...                 ...                ...      ...  \n",
       "2167843            55.0         2085.986380         796.101767        5  \n",
       "2167844            60.0         2339.780728         868.474655        3  \n",
       "2167845            64.0         2460.348170         926.372966        5  \n",
       "2167846           100.0         3531.912728        1447.457759        2  \n",
       "2167847           100.0         5191.116187         530.059031        4  \n",
       "\n",
       "[2167848 rows x 10 columns]"
      ]
     },
     "execution_count": 39,
     "metadata": {},
     "output_type": "execute_result"
    }
   ],
   "source": [
    "data"
   ]
  },
  {
   "cell_type": "code",
   "execution_count": 45,
   "metadata": {},
   "outputs": [
    {
     "ename": "MemoryError",
     "evalue": "Unable to allocate 34.2 TiB for an array with shape (2167848, 2167848) and data type float64",
     "output_type": "error",
     "traceback": [
      "\u001b[0;31m---------------------------------------------------------------------------\u001b[0m",
      "\u001b[0;31mMemoryError\u001b[0m                               Traceback (most recent call last)",
      "Cell \u001b[0;32mIn[45], line 16\u001b[0m\n\u001b[1;32m     13\u001b[0m encoded_features \u001b[39m=\u001b[39m pd\u001b[39m.\u001b[39mget_dummies(features_df, columns\u001b[39m=\u001b[39m[\u001b[39m'\u001b[39m\u001b[39mtype_id\u001b[39m\u001b[39m'\u001b[39m, \u001b[39m'\u001b[39m\u001b[39mbusiness_id\u001b[39m\u001b[39m'\u001b[39m, \u001b[39m'\u001b[39m\u001b[39mchannel_id\u001b[39m\u001b[39m'\u001b[39m])\n\u001b[1;32m     15\u001b[0m \u001b[39m# Calcular la matriz de similitud coseno entre productos\u001b[39;00m\n\u001b[0;32m---> 16\u001b[0m similarity_matrix \u001b[39m=\u001b[39m cosine_similarity(encoded_features\u001b[39m.\u001b[39;49mdrop(\u001b[39m'\u001b[39;49m\u001b[39mproduct_id\u001b[39;49m\u001b[39m'\u001b[39;49m, axis\u001b[39m=\u001b[39;49m\u001b[39m1\u001b[39;49m))\n\u001b[1;32m     18\u001b[0m \u001b[39m# Crear un modelo de vecinos cercanos\u001b[39;00m\n\u001b[1;32m     19\u001b[0m num_neighbors \u001b[39m=\u001b[39m \u001b[39m5\u001b[39m  \u001b[39m# Puedes ajustar este valor según tus necesidades\u001b[39;00m\n",
      "File \u001b[0;32m~/recomienda/venv/lib/python3.10/site-packages/sklearn/utils/_param_validation.py:211\u001b[0m, in \u001b[0;36mvalidate_params.<locals>.decorator.<locals>.wrapper\u001b[0;34m(*args, **kwargs)\u001b[0m\n\u001b[1;32m    205\u001b[0m \u001b[39mtry\u001b[39;00m:\n\u001b[1;32m    206\u001b[0m     \u001b[39mwith\u001b[39;00m config_context(\n\u001b[1;32m    207\u001b[0m         skip_parameter_validation\u001b[39m=\u001b[39m(\n\u001b[1;32m    208\u001b[0m             prefer_skip_nested_validation \u001b[39mor\u001b[39;00m global_skip_validation\n\u001b[1;32m    209\u001b[0m         )\n\u001b[1;32m    210\u001b[0m     ):\n\u001b[0;32m--> 211\u001b[0m         \u001b[39mreturn\u001b[39;00m func(\u001b[39m*\u001b[39;49margs, \u001b[39m*\u001b[39;49m\u001b[39m*\u001b[39;49mkwargs)\n\u001b[1;32m    212\u001b[0m \u001b[39mexcept\u001b[39;00m InvalidParameterError \u001b[39mas\u001b[39;00m e:\n\u001b[1;32m    213\u001b[0m     \u001b[39m# When the function is just a wrapper around an estimator, we allow\u001b[39;00m\n\u001b[1;32m    214\u001b[0m     \u001b[39m# the function to delegate validation to the estimator, but we replace\u001b[39;00m\n\u001b[1;32m    215\u001b[0m     \u001b[39m# the name of the estimator by the name of the function in the error\u001b[39;00m\n\u001b[1;32m    216\u001b[0m     \u001b[39m# message to avoid confusion.\u001b[39;00m\n\u001b[1;32m    217\u001b[0m     msg \u001b[39m=\u001b[39m re\u001b[39m.\u001b[39msub(\n\u001b[1;32m    218\u001b[0m         \u001b[39mr\u001b[39m\u001b[39m\"\u001b[39m\u001b[39mparameter of \u001b[39m\u001b[39m\\\u001b[39m\u001b[39mw+ must be\u001b[39m\u001b[39m\"\u001b[39m,\n\u001b[1;32m    219\u001b[0m         \u001b[39mf\u001b[39m\u001b[39m\"\u001b[39m\u001b[39mparameter of \u001b[39m\u001b[39m{\u001b[39;00mfunc\u001b[39m.\u001b[39m\u001b[39m__qualname__\u001b[39m\u001b[39m}\u001b[39;00m\u001b[39m must be\u001b[39m\u001b[39m\"\u001b[39m,\n\u001b[1;32m    220\u001b[0m         \u001b[39mstr\u001b[39m(e),\n\u001b[1;32m    221\u001b[0m     )\n",
      "File \u001b[0;32m~/recomienda/venv/lib/python3.10/site-packages/sklearn/metrics/pairwise.py:1585\u001b[0m, in \u001b[0;36mcosine_similarity\u001b[0;34m(X, Y, dense_output)\u001b[0m\n\u001b[1;32m   1582\u001b[0m \u001b[39melse\u001b[39;00m:\n\u001b[1;32m   1583\u001b[0m     Y_normalized \u001b[39m=\u001b[39m normalize(Y, copy\u001b[39m=\u001b[39m\u001b[39mTrue\u001b[39;00m)\n\u001b[0;32m-> 1585\u001b[0m K \u001b[39m=\u001b[39m safe_sparse_dot(X_normalized, Y_normalized\u001b[39m.\u001b[39;49mT, dense_output\u001b[39m=\u001b[39;49mdense_output)\n\u001b[1;32m   1587\u001b[0m \u001b[39mreturn\u001b[39;00m K\n",
      "File \u001b[0;32m~/recomienda/venv/lib/python3.10/site-packages/sklearn/utils/extmath.py:193\u001b[0m, in \u001b[0;36msafe_sparse_dot\u001b[0;34m(a, b, dense_output)\u001b[0m\n\u001b[1;32m    191\u001b[0m         ret \u001b[39m=\u001b[39m np\u001b[39m.\u001b[39mdot(a, b)\n\u001b[1;32m    192\u001b[0m \u001b[39melse\u001b[39;00m:\n\u001b[0;32m--> 193\u001b[0m     ret \u001b[39m=\u001b[39m a \u001b[39m@\u001b[39;49m b\n\u001b[1;32m    195\u001b[0m \u001b[39mif\u001b[39;00m (\n\u001b[1;32m    196\u001b[0m     sparse\u001b[39m.\u001b[39missparse(a)\n\u001b[1;32m    197\u001b[0m     \u001b[39mand\u001b[39;00m sparse\u001b[39m.\u001b[39missparse(b)\n\u001b[1;32m    198\u001b[0m     \u001b[39mand\u001b[39;00m dense_output\n\u001b[1;32m    199\u001b[0m     \u001b[39mand\u001b[39;00m \u001b[39mhasattr\u001b[39m(ret, \u001b[39m\"\u001b[39m\u001b[39mtoarray\u001b[39m\u001b[39m\"\u001b[39m)\n\u001b[1;32m    200\u001b[0m ):\n\u001b[1;32m    201\u001b[0m     \u001b[39mreturn\u001b[39;00m ret\u001b[39m.\u001b[39mtoarray()\n",
      "\u001b[0;31mMemoryError\u001b[0m: Unable to allocate 34.2 TiB for an array with shape (2167848, 2167848) and data type float64"
     ]
    }
   ],
   "source": [
    "import pandas as pd\n",
    "from sklearn.metrics.pairwise import cosine_similarity\n",
    "from sklearn.neighbors import NearestNeighbors\n",
    "import numpy as np\n",
    "\n",
    "# Carga tus datos en un DataFrame de pandas\n",
    "# data = pd.read_csv('ruta_del_archivo.csv')\n",
    "\n",
    "# Crear un DataFrame de características relevantes para el filtrado basado en vecinos\n",
    "features_df = data[['product_id', 'type_id', 'business_id', 'channel_id', 'cantidad_venta', 'monto_venta_transf', 'peso_venta_transf']]\n",
    "\n",
    "# Aplicar codificación one-hot a características categóricas\n",
    "encoded_features = pd.get_dummies(features_df, columns=['type_id', 'business_id', 'channel_id'])\n",
    "\n",
    "# Calcular la matriz de similitud coseno entre productos\n",
    "similarity_matrix = cosine_similarity(encoded_features.drop('product_id', axis=1))\n",
    "\n",
    "# Crear un modelo de vecinos cercanos\n",
    "num_neighbors = 5  # Puedes ajustar este valor según tus necesidades\n",
    "neighbors_model = NearestNeighbors(n_neighbors=num_neighbors, metric='cosine')\n",
    "neighbors_model.fit(similarity_matrix)\n",
    "\n",
    "# Ejemplo: Obtén recomendaciones para un producto dado (index)\n",
    "product_index = 0\n",
    "product_features = encoded_features.iloc[product_index, 1:].values.reshape(1, -1)\n",
    "\n",
    "# Encuentra los índices de los productos vecinos más cercanos\n",
    "distances, neighbor_indices = neighbors_model.kneighbors(product_features)\n",
    "\n",
    "# Recomienda los productos vecinos más cercanos\n",
    "print(\"Recomendaciones para el producto:\", data.loc[product_index, 'product_id'])\n",
    "for idx in neighbor_indices.flatten():\n",
    "    print(data.loc[idx, 'product_id'])\n"
   ]
  }
 ],
 "metadata": {
  "kernelspec": {
   "display_name": "venv",
   "language": "python",
   "name": "python3"
  },
  "language_info": {
   "codemirror_mode": {
    "name": "ipython",
    "version": 3
   },
   "file_extension": ".py",
   "mimetype": "text/x-python",
   "name": "python",
   "nbconvert_exporter": "python",
   "pygments_lexer": "ipython3",
   "version": "3.10.6"
  },
  "orig_nbformat": 4
 },
 "nbformat": 4,
 "nbformat_minor": 2
}
